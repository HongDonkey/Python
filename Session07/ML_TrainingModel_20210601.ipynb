{
 "cells": [
  {
   "cell_type": "markdown",
   "metadata": {},
   "source": [
    "### 라이브러리 정의"
   ]
  },
  {
   "cell_type": "code",
   "execution_count": 2,
   "metadata": {},
   "outputs": [],
   "source": [
    "# 데이터 처리 라이브러리\n",
    "import pandas as pd\n",
    "import numpy as np\n",
    "# 분석알고리즘 DecisionTree 구현 라이브러리\n",
    "from sklearn.tree import DecisionTreeRegressor \n",
    "# 과거데이터를 8:2, 7:3 이나 이런식으로 자동으로 나누어주는 라이브러리\n",
    "from sklearn.model_selection import train_test_split"
   ]
  },
  {
   "cell_type": "code",
   "execution_count": 3,
   "metadata": {},
   "outputs": [],
   "source": [
    "from sklearn.ensemble import RandomForestRegressor\n",
    "from sklearn.tree import DecisionTreeRegressor \n",
    "from sklearn.linear_model import LinearRegression"
   ]
  },
  {
   "cell_type": "code",
   "execution_count": 4,
   "metadata": {},
   "outputs": [],
   "source": [
    "from sklearn.preprocessing import LabelEncoder\n",
    "\n",
    "from sklearn.metrics import mean_absolute_error\n",
    "from sklearn.metrics import mean_squared_error"
   ]
  },
  {
   "cell_type": "markdown",
   "metadata": {},
   "source": [
    "### 데이터 불러오기"
   ]
  },
  {
   "cell_type": "code",
   "execution_count": 5,
   "metadata": {},
   "outputs": [
    {
     "data": {
      "text/html": [
       "<div>\n",
       "<style scoped>\n",
       "    .dataframe tbody tr th:only-of-type {\n",
       "        vertical-align: middle;\n",
       "    }\n",
       "\n",
       "    .dataframe tbody tr th {\n",
       "        vertical-align: top;\n",
       "    }\n",
       "\n",
       "    .dataframe thead th {\n",
       "        text-align: right;\n",
       "    }\n",
       "</style>\n",
       "<table border=\"1\" class=\"dataframe\">\n",
       "  <thead>\n",
       "    <tr style=\"text-align: right;\">\n",
       "      <th></th>\n",
       "      <th>REGIONID</th>\n",
       "      <th>PRODUCTGROUP</th>\n",
       "      <th>PRODUCT</th>\n",
       "      <th>ITEM</th>\n",
       "      <th>YEARWEEK</th>\n",
       "      <th>YEAR</th>\n",
       "      <th>WEEK</th>\n",
       "      <th>QTY</th>\n",
       "      <th>HOLIDAY</th>\n",
       "      <th>HCLUS</th>\n",
       "      <th>PROMOTION</th>\n",
       "      <th>PRO_PERCENT</th>\n",
       "    </tr>\n",
       "  </thead>\n",
       "  <tbody>\n",
       "    <tr>\n",
       "      <th>0</th>\n",
       "      <td>SEOUL_BANK_001</td>\n",
       "      <td>PG02</td>\n",
       "      <td>PRODUCT0010</td>\n",
       "      <td>ITEM0115</td>\n",
       "      <td>201501</td>\n",
       "      <td>2015</td>\n",
       "      <td>1</td>\n",
       "      <td>1225</td>\n",
       "      <td>Y</td>\n",
       "      <td>1</td>\n",
       "      <td>Y</td>\n",
       "      <td>0.209442</td>\n",
       "    </tr>\n",
       "    <tr>\n",
       "      <th>1</th>\n",
       "      <td>SEOUL_BANK_001</td>\n",
       "      <td>PG02</td>\n",
       "      <td>PRODUCT0010</td>\n",
       "      <td>ITEM0115</td>\n",
       "      <td>201502</td>\n",
       "      <td>2015</td>\n",
       "      <td>2</td>\n",
       "      <td>968</td>\n",
       "      <td>N</td>\n",
       "      <td>4</td>\n",
       "      <td>Y</td>\n",
       "      <td>0.209442</td>\n",
       "    </tr>\n",
       "  </tbody>\n",
       "</table>\n",
       "</div>"
      ],
      "text/plain": [
       "         REGIONID PRODUCTGROUP      PRODUCT      ITEM  YEARWEEK  YEAR  WEEK  \\\n",
       "0  SEOUL_BANK_001         PG02  PRODUCT0010  ITEM0115    201501  2015     1   \n",
       "1  SEOUL_BANK_001         PG02  PRODUCT0010  ITEM0115    201502  2015     2   \n",
       "\n",
       "    QTY HOLIDAY  HCLUS PROMOTION  PRO_PERCENT  \n",
       "0  1225       Y      1         Y     0.209442  \n",
       "1   968       N      4         Y     0.209442  "
      ]
     },
     "execution_count": 5,
     "metadata": {},
     "output_type": "execute_result"
    }
   ],
   "source": [
    "featuresData = \\\n",
    "    pd.read_csv(\"../dataset/feature_regression_example.csv\")\n",
    "featuresData.head(2)"
   ]
  },
  {
   "cell_type": "markdown",
   "metadata": {},
   "source": [
    "### 1. 데이터 전처리"
   ]
  },
  {
   "cell_type": "markdown",
   "metadata": {},
   "source": [
    "### 1-1. 타입 통합 / 특성 숫자컬럼 추가"
   ]
  },
  {
   "cell_type": "markdown",
   "metadata": {},
   "source": [
    "### 1-1-1. 데이터 타입 통합"
   ]
  },
  {
   "cell_type": "code",
   "execution_count": 6,
   "metadata": {},
   "outputs": [],
   "source": [
    "# featuresData.info()"
   ]
  },
  {
   "cell_type": "code",
   "execution_count": 7,
   "metadata": {},
   "outputs": [],
   "source": [
    "# 주의할 사항은 모든 컬럼에 대해서 고정시키는걸 고려햐는게 나을수도 있다\n",
    "featuresData.QTY = featuresData.QTY.astype(float)"
   ]
  },
  {
   "cell_type": "markdown",
   "metadata": {},
   "source": [
    "### 1-1-2. 특성 값 숫자컬럼 변경"
   ]
  },
  {
   "cell_type": "code",
   "execution_count": 8,
   "metadata": {},
   "outputs": [],
   "source": [
    "featuresData[\"HOLIDAY_NEW\"] = \\\n",
    "    np.where(featuresData.HOLIDAY==\"Y\",1,0)"
   ]
  },
  {
   "cell_type": "code",
   "execution_count": 9,
   "metadata": {},
   "outputs": [],
   "source": [
    "featuresData[\"PROMOTION_NEW\"] = \\\n",
    "    np.where(featuresData.PROMOTION==\"Y\",1,0)"
   ]
  },
  {
   "cell_type": "markdown",
   "metadata": {},
   "source": [
    "### 1-2. 특성 선정 / 데이터 분리"
   ]
  },
  {
   "cell_type": "markdown",
   "metadata": {},
   "source": [
    "### 1-2-1. 특성 선정"
   ]
  },
  {
   "cell_type": "code",
   "execution_count": 10,
   "metadata": {},
   "outputs": [],
   "source": [
    "corrDf = featuresData.corr()"
   ]
  },
  {
   "cell_type": "code",
   "execution_count": 11,
   "metadata": {},
   "outputs": [],
   "source": [
    "standardLimit = 0.5"
   ]
  },
  {
   "cell_type": "code",
   "execution_count": 12,
   "metadata": {},
   "outputs": [],
   "source": [
    "features = \\\n",
    "    list(corrDf.loc[ ( abs(corrDf.QTY) > standardLimit ) & \n",
    "                    (corrDf.QTY != 1) ].index )"
   ]
  },
  {
   "cell_type": "code",
   "execution_count": 13,
   "metadata": {},
   "outputs": [],
   "source": [
    "label = [\"QTY\"]"
   ]
  },
  {
   "cell_type": "markdown",
   "metadata": {},
   "source": [
    "### 1-2-2. 데이터 분리"
   ]
  },
  {
   "cell_type": "code",
   "execution_count": 27,
   "metadata": {},
   "outputs": [],
   "source": [
    "standardIndex = 0.8"
   ]
  },
  {
   "cell_type": "code",
   "execution_count": 28,
   "metadata": {},
   "outputs": [],
   "source": [
    "sortKey = [\"REGIONID\",\"ITEM\",\"YEARWEEK\"]"
   ]
  },
  {
   "cell_type": "code",
   "execution_count": 29,
   "metadata": {},
   "outputs": [],
   "source": [
    "sortedData = featuresData.sort_values(sortKey, ignore_index=True)"
   ]
  },
  {
   "cell_type": "code",
   "execution_count": 30,
   "metadata": {},
   "outputs": [],
   "source": [
    "selectedIndex = int( list( sortedData.shape )[0] * standardIndex )"
   ]
  },
  {
   "cell_type": "code",
   "execution_count": 31,
   "metadata": {},
   "outputs": [],
   "source": [
    "yearweekStd = sortedData.loc[selectedIndex].YEARWEEK"
   ]
  },
  {
   "cell_type": "code",
   "execution_count": 32,
   "metadata": {},
   "outputs": [],
   "source": [
    "# 훈련데이터와 테스트데이터를 (문제지와 정답지로 구분해서 정의한다.)\n",
    "trainingDataFeatures = \\\n",
    "    sortedData.loc[sortedData.YEARWEEK <= yearweekStd, features]\n",
    "trainingDataLabel = \\\n",
    "    sortedData.loc[sortedData.YEARWEEK <= yearweekStd, label]\n",
    "testDataFeatures = \\\n",
    "    sortedData.loc[sortedData.YEARWEEK > yearweekStd, features]\n",
    "testDataLabel = \\\n",
    "    sortedData.loc[sortedData.YEARWEEK > yearweekStd, label]"
   ]
  },
  {
   "cell_type": "markdown",
   "metadata": {},
   "source": [
    "### 2. 모델적용"
   ]
  },
  {
   "cell_type": "markdown",
   "metadata": {},
   "source": [
    "### 2-1. 모델 적용"
   ]
  },
  {
   "cell_type": "markdown",
   "metadata": {},
   "source": [
    "### 2-1-1 학습"
   ]
  },
  {
   "cell_type": "code",
   "execution_count": 55,
   "metadata": {},
   "outputs": [
    {
     "data": {
      "text/plain": [
       "DecisionTreeRegressor(max_depth=1, random_state=10)"
      ]
     },
     "execution_count": 55,
     "metadata": {},
     "output_type": "execute_result"
    }
   ],
   "source": [
    "# 모델 선언 (Decision, Random)\n",
    "model_dt = DecisionTreeRegressor(random_state=10, max_depth=1)\n",
    "model_rf = RandomForestRegressor(random_state=10)\n",
    "model_lr = LinearRegression()"
   ]
  },
  {
   "cell_type": "code",
   "execution_count": 56,
   "metadata": {},
   "outputs": [
    {
     "name": "stderr",
     "output_type": "stream",
     "text": [
      "<ipython-input-56-54507afbb5c1>:2: DataConversionWarning: A column-vector y was passed when a 1d array was expected. Please change the shape of y to (n_samples,), for example using ravel().\n",
      "  model_rf.fit(X=trainingDataFeatures, y=trainingDataLabel)\n"
     ]
    },
    {
     "data": {
      "text/plain": [
       "LinearRegression()"
      ]
     },
     "execution_count": 56,
     "metadata": {},
     "output_type": "execute_result"
    }
   ],
   "source": [
    "model_dt.fit(X=trainingDataFeatures, y=trainingDataLabel)\n",
    "model_rf.fit(X=trainingDataFeatures, y=trainingDataLabel)\n",
    "model_lr.fit(X=trainingDataFeatures, y=trainingDataLabel)"
   ]
  },
  {
   "cell_type": "markdown",
   "metadata": {},
   "source": [
    "### 3. 예측"
   ]
  },
  {
   "cell_type": "code",
   "execution_count": 57,
   "metadata": {},
   "outputs": [],
   "source": [
    "predictValueDt = model_dt.predict(testDataFeatures)\n",
    "predictValueRf = model_rf.predict(testDataFeatures)\n",
    "predictValueLr = model_lr.predict(testDataFeatures)"
   ]
  },
  {
   "cell_type": "code",
   "execution_count": 58,
   "metadata": {},
   "outputs": [],
   "source": [
    "testDataAll = \\\n",
    "    featuresData.loc[ testDataFeatures.index ] "
   ]
  },
  {
   "cell_type": "code",
   "execution_count": 59,
   "metadata": {},
   "outputs": [],
   "source": [
    "testDataAll[\"PREDICT_DT\"] = predictValueDt\n",
    "testDataAll[\"PREDICT_RF\"] = predictValueRf"
   ]
  },
  {
   "cell_type": "code",
   "execution_count": 61,
   "metadata": {},
   "outputs": [
    {
     "data": {
      "text/html": [
       "<div>\n",
       "<style scoped>\n",
       "    .dataframe tbody tr th:only-of-type {\n",
       "        vertical-align: middle;\n",
       "    }\n",
       "\n",
       "    .dataframe tbody tr th {\n",
       "        vertical-align: top;\n",
       "    }\n",
       "\n",
       "    .dataframe thead th {\n",
       "        text-align: right;\n",
       "    }\n",
       "</style>\n",
       "<table border=\"1\" class=\"dataframe\">\n",
       "  <thead>\n",
       "    <tr style=\"text-align: right;\">\n",
       "      <th></th>\n",
       "      <th>REGIONID</th>\n",
       "      <th>PRODUCTGROUP</th>\n",
       "      <th>PRODUCT</th>\n",
       "      <th>ITEM</th>\n",
       "      <th>YEARWEEK</th>\n",
       "      <th>YEAR</th>\n",
       "      <th>WEEK</th>\n",
       "      <th>QTY</th>\n",
       "      <th>HOLIDAY</th>\n",
       "      <th>HCLUS</th>\n",
       "      <th>PROMOTION</th>\n",
       "      <th>PRO_PERCENT</th>\n",
       "      <th>HOLIDAY_NEW</th>\n",
       "      <th>PROMOTION_NEW</th>\n",
       "      <th>PREDICT_DT</th>\n",
       "      <th>PREDICT_RF</th>\n",
       "      <th>PREDICT_LR</th>\n",
       "    </tr>\n",
       "  </thead>\n",
       "  <tbody>\n",
       "    <tr>\n",
       "      <th>85</th>\n",
       "      <td>SEOUL_BANK_001</td>\n",
       "      <td>PG02</td>\n",
       "      <td>PRODUCT0010</td>\n",
       "      <td>ITEM0115</td>\n",
       "      <td>201633</td>\n",
       "      <td>2016</td>\n",
       "      <td>33</td>\n",
       "      <td>43.0</td>\n",
       "      <td>N</td>\n",
       "      <td>4</td>\n",
       "      <td>N</td>\n",
       "      <td>0.000000</td>\n",
       "      <td>0</td>\n",
       "      <td>0</td>\n",
       "      <td>826.203125</td>\n",
       "      <td>353.535465</td>\n",
       "      <td>302.382057</td>\n",
       "    </tr>\n",
       "    <tr>\n",
       "      <th>86</th>\n",
       "      <td>SEOUL_BANK_001</td>\n",
       "      <td>PG02</td>\n",
       "      <td>PRODUCT0010</td>\n",
       "      <td>ITEM0115</td>\n",
       "      <td>201634</td>\n",
       "      <td>2016</td>\n",
       "      <td>34</td>\n",
       "      <td>1700.0</td>\n",
       "      <td>Y</td>\n",
       "      <td>1</td>\n",
       "      <td>Y</td>\n",
       "      <td>0.308584</td>\n",
       "      <td>1</td>\n",
       "      <td>1</td>\n",
       "      <td>2062.857143</td>\n",
       "      <td>1409.048303</td>\n",
       "      <td>2042.087373</td>\n",
       "    </tr>\n",
       "    <tr>\n",
       "      <th>87</th>\n",
       "      <td>SEOUL_BANK_001</td>\n",
       "      <td>PG02</td>\n",
       "      <td>PRODUCT0010</td>\n",
       "      <td>ITEM0115</td>\n",
       "      <td>201635</td>\n",
       "      <td>2016</td>\n",
       "      <td>35</td>\n",
       "      <td>1514.0</td>\n",
       "      <td>Y</td>\n",
       "      <td>1</td>\n",
       "      <td>Y</td>\n",
       "      <td>0.308584</td>\n",
       "      <td>1</td>\n",
       "      <td>1</td>\n",
       "      <td>2062.857143</td>\n",
       "      <td>1409.048303</td>\n",
       "      <td>2042.087373</td>\n",
       "    </tr>\n",
       "    <tr>\n",
       "      <th>88</th>\n",
       "      <td>SEOUL_BANK_001</td>\n",
       "      <td>PG02</td>\n",
       "      <td>PRODUCT0010</td>\n",
       "      <td>ITEM0115</td>\n",
       "      <td>201636</td>\n",
       "      <td>2016</td>\n",
       "      <td>36</td>\n",
       "      <td>1501.0</td>\n",
       "      <td>Y</td>\n",
       "      <td>1</td>\n",
       "      <td>Y</td>\n",
       "      <td>0.308584</td>\n",
       "      <td>1</td>\n",
       "      <td>1</td>\n",
       "      <td>2062.857143</td>\n",
       "      <td>1409.048303</td>\n",
       "      <td>2042.087373</td>\n",
       "    </tr>\n",
       "    <tr>\n",
       "      <th>89</th>\n",
       "      <td>SEOUL_BANK_001</td>\n",
       "      <td>PG02</td>\n",
       "      <td>PRODUCT0010</td>\n",
       "      <td>ITEM0115</td>\n",
       "      <td>201637</td>\n",
       "      <td>2016</td>\n",
       "      <td>37</td>\n",
       "      <td>1491.0</td>\n",
       "      <td>N</td>\n",
       "      <td>4</td>\n",
       "      <td>Y</td>\n",
       "      <td>0.308584</td>\n",
       "      <td>0</td>\n",
       "      <td>1</td>\n",
       "      <td>2062.857143</td>\n",
       "      <td>1439.099008</td>\n",
       "      <td>1678.587907</td>\n",
       "    </tr>\n",
       "    <tr>\n",
       "      <th>90</th>\n",
       "      <td>SEOUL_BANK_001</td>\n",
       "      <td>PG02</td>\n",
       "      <td>PRODUCT0010</td>\n",
       "      <td>ITEM0115</td>\n",
       "      <td>201638</td>\n",
       "      <td>2016</td>\n",
       "      <td>38</td>\n",
       "      <td>806.0</td>\n",
       "      <td>N</td>\n",
       "      <td>4</td>\n",
       "      <td>Y</td>\n",
       "      <td>0.308584</td>\n",
       "      <td>0</td>\n",
       "      <td>1</td>\n",
       "      <td>2062.857143</td>\n",
       "      <td>1439.099008</td>\n",
       "      <td>1678.587907</td>\n",
       "    </tr>\n",
       "    <tr>\n",
       "      <th>91</th>\n",
       "      <td>SEOUL_BANK_001</td>\n",
       "      <td>PG02</td>\n",
       "      <td>PRODUCT0010</td>\n",
       "      <td>ITEM0115</td>\n",
       "      <td>201639</td>\n",
       "      <td>2016</td>\n",
       "      <td>39</td>\n",
       "      <td>2111.0</td>\n",
       "      <td>N</td>\n",
       "      <td>4</td>\n",
       "      <td>Y</td>\n",
       "      <td>0.280258</td>\n",
       "      <td>0</td>\n",
       "      <td>1</td>\n",
       "      <td>2062.857143</td>\n",
       "      <td>1731.856825</td>\n",
       "      <td>1480.694437</td>\n",
       "    </tr>\n",
       "    <tr>\n",
       "      <th>92</th>\n",
       "      <td>SEOUL_BANK_001</td>\n",
       "      <td>PG02</td>\n",
       "      <td>PRODUCT0010</td>\n",
       "      <td>ITEM0115</td>\n",
       "      <td>201640</td>\n",
       "      <td>2016</td>\n",
       "      <td>40</td>\n",
       "      <td>2400.0</td>\n",
       "      <td>N</td>\n",
       "      <td>4</td>\n",
       "      <td>Y</td>\n",
       "      <td>0.280258</td>\n",
       "      <td>0</td>\n",
       "      <td>1</td>\n",
       "      <td>2062.857143</td>\n",
       "      <td>1731.856825</td>\n",
       "      <td>1480.694437</td>\n",
       "    </tr>\n",
       "    <tr>\n",
       "      <th>93</th>\n",
       "      <td>SEOUL_BANK_001</td>\n",
       "      <td>PG02</td>\n",
       "      <td>PRODUCT0010</td>\n",
       "      <td>ITEM0115</td>\n",
       "      <td>201641</td>\n",
       "      <td>2016</td>\n",
       "      <td>41</td>\n",
       "      <td>2010.0</td>\n",
       "      <td>Y</td>\n",
       "      <td>2</td>\n",
       "      <td>Y</td>\n",
       "      <td>0.280258</td>\n",
       "      <td>1</td>\n",
       "      <td>1</td>\n",
       "      <td>2062.857143</td>\n",
       "      <td>2576.315483</td>\n",
       "      <td>1879.407660</td>\n",
       "    </tr>\n",
       "    <tr>\n",
       "      <th>94</th>\n",
       "      <td>SEOUL_BANK_001</td>\n",
       "      <td>PG02</td>\n",
       "      <td>PRODUCT0010</td>\n",
       "      <td>ITEM0115</td>\n",
       "      <td>201642</td>\n",
       "      <td>2016</td>\n",
       "      <td>42</td>\n",
       "      <td>1900.0</td>\n",
       "      <td>N</td>\n",
       "      <td>4</td>\n",
       "      <td>Y</td>\n",
       "      <td>0.280258</td>\n",
       "      <td>0</td>\n",
       "      <td>1</td>\n",
       "      <td>2062.857143</td>\n",
       "      <td>1731.856825</td>\n",
       "      <td>1480.694437</td>\n",
       "    </tr>\n",
       "    <tr>\n",
       "      <th>95</th>\n",
       "      <td>SEOUL_BANK_001</td>\n",
       "      <td>PG02</td>\n",
       "      <td>PRODUCT0010</td>\n",
       "      <td>ITEM0115</td>\n",
       "      <td>201643</td>\n",
       "      <td>2016</td>\n",
       "      <td>43</td>\n",
       "      <td>141.0</td>\n",
       "      <td>N</td>\n",
       "      <td>4</td>\n",
       "      <td>N</td>\n",
       "      <td>0.000000</td>\n",
       "      <td>0</td>\n",
       "      <td>0</td>\n",
       "      <td>826.203125</td>\n",
       "      <td>353.535465</td>\n",
       "      <td>302.382057</td>\n",
       "    </tr>\n",
       "    <tr>\n",
       "      <th>96</th>\n",
       "      <td>SEOUL_BANK_001</td>\n",
       "      <td>PG02</td>\n",
       "      <td>PRODUCT0010</td>\n",
       "      <td>ITEM0115</td>\n",
       "      <td>201644</td>\n",
       "      <td>2016</td>\n",
       "      <td>44</td>\n",
       "      <td>1615.0</td>\n",
       "      <td>Y</td>\n",
       "      <td>0</td>\n",
       "      <td>Y</td>\n",
       "      <td>0.421888</td>\n",
       "      <td>1</td>\n",
       "      <td>1</td>\n",
       "      <td>2062.857143</td>\n",
       "      <td>2141.099962</td>\n",
       "      <td>2798.447502</td>\n",
       "    </tr>\n",
       "    <tr>\n",
       "      <th>97</th>\n",
       "      <td>SEOUL_BANK_001</td>\n",
       "      <td>PG02</td>\n",
       "      <td>PRODUCT0010</td>\n",
       "      <td>ITEM0115</td>\n",
       "      <td>201645</td>\n",
       "      <td>2016</td>\n",
       "      <td>45</td>\n",
       "      <td>1574.0</td>\n",
       "      <td>Y</td>\n",
       "      <td>0</td>\n",
       "      <td>Y</td>\n",
       "      <td>0.421888</td>\n",
       "      <td>1</td>\n",
       "      <td>1</td>\n",
       "      <td>2062.857143</td>\n",
       "      <td>2141.099962</td>\n",
       "      <td>2798.447502</td>\n",
       "    </tr>\n",
       "    <tr>\n",
       "      <th>98</th>\n",
       "      <td>SEOUL_BANK_001</td>\n",
       "      <td>PG02</td>\n",
       "      <td>PRODUCT0010</td>\n",
       "      <td>ITEM0115</td>\n",
       "      <td>201646</td>\n",
       "      <td>2016</td>\n",
       "      <td>46</td>\n",
       "      <td>1800.0</td>\n",
       "      <td>Y</td>\n",
       "      <td>0</td>\n",
       "      <td>Y</td>\n",
       "      <td>0.421888</td>\n",
       "      <td>1</td>\n",
       "      <td>1</td>\n",
       "      <td>2062.857143</td>\n",
       "      <td>2141.099962</td>\n",
       "      <td>2798.447502</td>\n",
       "    </tr>\n",
       "    <tr>\n",
       "      <th>99</th>\n",
       "      <td>SEOUL_BANK_001</td>\n",
       "      <td>PG02</td>\n",
       "      <td>PRODUCT0010</td>\n",
       "      <td>ITEM0115</td>\n",
       "      <td>201647</td>\n",
       "      <td>2016</td>\n",
       "      <td>47</td>\n",
       "      <td>2600.0</td>\n",
       "      <td>Y</td>\n",
       "      <td>0</td>\n",
       "      <td>Y</td>\n",
       "      <td>0.421888</td>\n",
       "      <td>1</td>\n",
       "      <td>1</td>\n",
       "      <td>2062.857143</td>\n",
       "      <td>2141.099962</td>\n",
       "      <td>2798.447502</td>\n",
       "    </tr>\n",
       "    <tr>\n",
       "      <th>100</th>\n",
       "      <td>SEOUL_BANK_001</td>\n",
       "      <td>PG02</td>\n",
       "      <td>PRODUCT0010</td>\n",
       "      <td>ITEM0115</td>\n",
       "      <td>201648</td>\n",
       "      <td>2016</td>\n",
       "      <td>48</td>\n",
       "      <td>2412.0</td>\n",
       "      <td>Y</td>\n",
       "      <td>0</td>\n",
       "      <td>Y</td>\n",
       "      <td>0.421888</td>\n",
       "      <td>1</td>\n",
       "      <td>1</td>\n",
       "      <td>2062.857143</td>\n",
       "      <td>2141.099962</td>\n",
       "      <td>2798.447502</td>\n",
       "    </tr>\n",
       "    <tr>\n",
       "      <th>101</th>\n",
       "      <td>SEOUL_BANK_001</td>\n",
       "      <td>PG02</td>\n",
       "      <td>PRODUCT0010</td>\n",
       "      <td>ITEM0115</td>\n",
       "      <td>201649</td>\n",
       "      <td>2016</td>\n",
       "      <td>49</td>\n",
       "      <td>1955.0</td>\n",
       "      <td>N</td>\n",
       "      <td>4</td>\n",
       "      <td>Y</td>\n",
       "      <td>0.421888</td>\n",
       "      <td>0</td>\n",
       "      <td>1</td>\n",
       "      <td>2062.857143</td>\n",
       "      <td>1641.828290</td>\n",
       "      <td>2470.161790</td>\n",
       "    </tr>\n",
       "    <tr>\n",
       "      <th>102</th>\n",
       "      <td>SEOUL_BANK_001</td>\n",
       "      <td>PG02</td>\n",
       "      <td>PRODUCT0010</td>\n",
       "      <td>ITEM0115</td>\n",
       "      <td>201650</td>\n",
       "      <td>2016</td>\n",
       "      <td>50</td>\n",
       "      <td>1800.0</td>\n",
       "      <td>N</td>\n",
       "      <td>4</td>\n",
       "      <td>Y</td>\n",
       "      <td>0.352361</td>\n",
       "      <td>0</td>\n",
       "      <td>1</td>\n",
       "      <td>2062.857143</td>\n",
       "      <td>1641.828290</td>\n",
       "      <td>1984.423271</td>\n",
       "    </tr>\n",
       "    <tr>\n",
       "      <th>103</th>\n",
       "      <td>SEOUL_BANK_001</td>\n",
       "      <td>PG02</td>\n",
       "      <td>PRODUCT0010</td>\n",
       "      <td>ITEM0115</td>\n",
       "      <td>201651</td>\n",
       "      <td>2016</td>\n",
       "      <td>51</td>\n",
       "      <td>1173.0</td>\n",
       "      <td>N</td>\n",
       "      <td>4</td>\n",
       "      <td>Y</td>\n",
       "      <td>0.352361</td>\n",
       "      <td>0</td>\n",
       "      <td>1</td>\n",
       "      <td>2062.857143</td>\n",
       "      <td>1641.828290</td>\n",
       "      <td>1984.423271</td>\n",
       "    </tr>\n",
       "    <tr>\n",
       "      <th>104</th>\n",
       "      <td>SEOUL_BANK_001</td>\n",
       "      <td>PG02</td>\n",
       "      <td>PRODUCT0010</td>\n",
       "      <td>ITEM0115</td>\n",
       "      <td>201652</td>\n",
       "      <td>2016</td>\n",
       "      <td>52</td>\n",
       "      <td>332.0</td>\n",
       "      <td>Y</td>\n",
       "      <td>1</td>\n",
       "      <td>Y</td>\n",
       "      <td>0.352361</td>\n",
       "      <td>1</td>\n",
       "      <td>1</td>\n",
       "      <td>2062.857143</td>\n",
       "      <td>1725.255027</td>\n",
       "      <td>2347.922737</td>\n",
       "    </tr>\n",
       "  </tbody>\n",
       "</table>\n",
       "</div>"
      ],
      "text/plain": [
       "           REGIONID PRODUCTGROUP      PRODUCT      ITEM  YEARWEEK  YEAR  WEEK  \\\n",
       "85   SEOUL_BANK_001         PG02  PRODUCT0010  ITEM0115    201633  2016    33   \n",
       "86   SEOUL_BANK_001         PG02  PRODUCT0010  ITEM0115    201634  2016    34   \n",
       "87   SEOUL_BANK_001         PG02  PRODUCT0010  ITEM0115    201635  2016    35   \n",
       "88   SEOUL_BANK_001         PG02  PRODUCT0010  ITEM0115    201636  2016    36   \n",
       "89   SEOUL_BANK_001         PG02  PRODUCT0010  ITEM0115    201637  2016    37   \n",
       "90   SEOUL_BANK_001         PG02  PRODUCT0010  ITEM0115    201638  2016    38   \n",
       "91   SEOUL_BANK_001         PG02  PRODUCT0010  ITEM0115    201639  2016    39   \n",
       "92   SEOUL_BANK_001         PG02  PRODUCT0010  ITEM0115    201640  2016    40   \n",
       "93   SEOUL_BANK_001         PG02  PRODUCT0010  ITEM0115    201641  2016    41   \n",
       "94   SEOUL_BANK_001         PG02  PRODUCT0010  ITEM0115    201642  2016    42   \n",
       "95   SEOUL_BANK_001         PG02  PRODUCT0010  ITEM0115    201643  2016    43   \n",
       "96   SEOUL_BANK_001         PG02  PRODUCT0010  ITEM0115    201644  2016    44   \n",
       "97   SEOUL_BANK_001         PG02  PRODUCT0010  ITEM0115    201645  2016    45   \n",
       "98   SEOUL_BANK_001         PG02  PRODUCT0010  ITEM0115    201646  2016    46   \n",
       "99   SEOUL_BANK_001         PG02  PRODUCT0010  ITEM0115    201647  2016    47   \n",
       "100  SEOUL_BANK_001         PG02  PRODUCT0010  ITEM0115    201648  2016    48   \n",
       "101  SEOUL_BANK_001         PG02  PRODUCT0010  ITEM0115    201649  2016    49   \n",
       "102  SEOUL_BANK_001         PG02  PRODUCT0010  ITEM0115    201650  2016    50   \n",
       "103  SEOUL_BANK_001         PG02  PRODUCT0010  ITEM0115    201651  2016    51   \n",
       "104  SEOUL_BANK_001         PG02  PRODUCT0010  ITEM0115    201652  2016    52   \n",
       "\n",
       "        QTY HOLIDAY  HCLUS PROMOTION  PRO_PERCENT  HOLIDAY_NEW  PROMOTION_NEW  \\\n",
       "85     43.0       N      4         N     0.000000            0              0   \n",
       "86   1700.0       Y      1         Y     0.308584            1              1   \n",
       "87   1514.0       Y      1         Y     0.308584            1              1   \n",
       "88   1501.0       Y      1         Y     0.308584            1              1   \n",
       "89   1491.0       N      4         Y     0.308584            0              1   \n",
       "90    806.0       N      4         Y     0.308584            0              1   \n",
       "91   2111.0       N      4         Y     0.280258            0              1   \n",
       "92   2400.0       N      4         Y     0.280258            0              1   \n",
       "93   2010.0       Y      2         Y     0.280258            1              1   \n",
       "94   1900.0       N      4         Y     0.280258            0              1   \n",
       "95    141.0       N      4         N     0.000000            0              0   \n",
       "96   1615.0       Y      0         Y     0.421888            1              1   \n",
       "97   1574.0       Y      0         Y     0.421888            1              1   \n",
       "98   1800.0       Y      0         Y     0.421888            1              1   \n",
       "99   2600.0       Y      0         Y     0.421888            1              1   \n",
       "100  2412.0       Y      0         Y     0.421888            1              1   \n",
       "101  1955.0       N      4         Y     0.421888            0              1   \n",
       "102  1800.0       N      4         Y     0.352361            0              1   \n",
       "103  1173.0       N      4         Y     0.352361            0              1   \n",
       "104   332.0       Y      1         Y     0.352361            1              1   \n",
       "\n",
       "      PREDICT_DT   PREDICT_RF   PREDICT_LR  \n",
       "85    826.203125   353.535465   302.382057  \n",
       "86   2062.857143  1409.048303  2042.087373  \n",
       "87   2062.857143  1409.048303  2042.087373  \n",
       "88   2062.857143  1409.048303  2042.087373  \n",
       "89   2062.857143  1439.099008  1678.587907  \n",
       "90   2062.857143  1439.099008  1678.587907  \n",
       "91   2062.857143  1731.856825  1480.694437  \n",
       "92   2062.857143  1731.856825  1480.694437  \n",
       "93   2062.857143  2576.315483  1879.407660  \n",
       "94   2062.857143  1731.856825  1480.694437  \n",
       "95    826.203125   353.535465   302.382057  \n",
       "96   2062.857143  2141.099962  2798.447502  \n",
       "97   2062.857143  2141.099962  2798.447502  \n",
       "98   2062.857143  2141.099962  2798.447502  \n",
       "99   2062.857143  2141.099962  2798.447502  \n",
       "100  2062.857143  2141.099962  2798.447502  \n",
       "101  2062.857143  1641.828290  2470.161790  \n",
       "102  2062.857143  1641.828290  1984.423271  \n",
       "103  2062.857143  1641.828290  1984.423271  \n",
       "104  2062.857143  1725.255027  2347.922737  "
      ]
     },
     "execution_count": 61,
     "metadata": {},
     "output_type": "execute_result"
    }
   ],
   "source": [
    "testDataAll[\"PREDICT_LR\"] = predictValueLr\n",
    "testDataAll"
   ]
  },
  {
   "cell_type": "code",
   "execution_count": 62,
   "metadata": {},
   "outputs": [],
   "source": [
    "predictDtMae = mean_absolute_error(y_true=testDataAll.QTY,\n",
    "                    y_pred=testDataAll.PREDICT_DT )\n",
    "predictRfMae = mean_absolute_error(y_true=testDataAll.QTY,\n",
    "                    y_pred=testDataAll.PREDICT_RF )\n",
    "predictLrMae = mean_absolute_error(y_true=testDataAll.QTY,\n",
    "                    y_pred=testDataAll.PREDICT_LR )"
   ]
  },
  {
   "cell_type": "code",
   "execution_count": 63,
   "metadata": {},
   "outputs": [],
   "source": [
    "errorReportDf = pd.DataFrame( [[ predictDtMae, predictRfMae,predictLrMae     ]],\n",
    "            columns=[\"DT_MAE\",\"RF_MAE\",\"LR_MAE\"])"
   ]
  },
  {
   "cell_type": "code",
   "execution_count": 64,
   "metadata": {},
   "outputs": [
    {
     "data": {
      "text/html": [
       "<div>\n",
       "<style scoped>\n",
       "    .dataframe tbody tr th:only-of-type {\n",
       "        vertical-align: middle;\n",
       "    }\n",
       "\n",
       "    .dataframe tbody tr th {\n",
       "        vertical-align: top;\n",
       "    }\n",
       "\n",
       "    .dataframe thead th {\n",
       "        text-align: right;\n",
       "    }\n",
       "</style>\n",
       "<table border=\"1\" class=\"dataframe\">\n",
       "  <thead>\n",
       "    <tr style=\"text-align: right;\">\n",
       "      <th></th>\n",
       "      <th>DT_MAE</th>\n",
       "      <th>RF_MAE</th>\n",
       "      <th>LR_MAE</th>\n",
       "    </tr>\n",
       "  </thead>\n",
       "  <tbody>\n",
       "    <tr>\n",
       "      <th>0</th>\n",
       "      <td>522.448884</td>\n",
       "      <td>398.759886</td>\n",
       "      <td>625.493983</td>\n",
       "    </tr>\n",
       "  </tbody>\n",
       "</table>\n",
       "</div>"
      ],
      "text/plain": [
       "       DT_MAE      RF_MAE      LR_MAE\n",
       "0  522.448884  398.759886  625.493983"
      ]
     },
     "execution_count": 64,
     "metadata": {},
     "output_type": "execute_result"
    }
   ],
   "source": [
    "errorReportDf"
   ]
  },
  {
   "cell_type": "code",
   "execution_count": 65,
   "metadata": {},
   "outputs": [
    {
     "data": {
      "text/plain": [
       "['HCLUS', 'PRO_PERCENT', 'HOLIDAY_NEW', 'PROMOTION_NEW']"
      ]
     },
     "execution_count": 65,
     "metadata": {},
     "output_type": "execute_result"
    }
   ],
   "source": [
    "features"
   ]
  },
  {
   "cell_type": "code",
   "execution_count": 66,
   "metadata": {},
   "outputs": [],
   "source": [
    "# 대휴일 1 소휴일 4\n",
    "userInputHCLUS = 1\n",
    "# 제품 할인 %\n",
    "userInputProPercent=0.5\n",
    "# 홀리데이 유무 Y= 1 N = 0\n",
    "userInputHoilidayYn = 1\n",
    "# 프로모션 유무 Y=1 N= 0\n",
    "userInputPromotionYn = 1"
   ]
  },
  {
   "cell_type": "code",
   "execution_count": 67,
   "metadata": {},
   "outputs": [],
   "source": [
    "futureData = pd.DataFrame([[ userInputHCLUS,\n",
    "              userInputProPercent,\n",
    "              userInputHoilidayYn,\n",
    "              userInputPromotionYn]]   )"
   ]
  },
  {
   "cell_type": "code",
   "execution_count": 68,
   "metadata": {},
   "outputs": [
    {
     "data": {
      "text/plain": [
       "array([2062.85714286])"
      ]
     },
     "execution_count": 68,
     "metadata": {},
     "output_type": "execute_result"
    }
   ],
   "source": [
    "# pickle 파일로 저장가능하다.\n",
    "model_dt.predict(futureData)"
   ]
  },
  {
   "cell_type": "code",
   "execution_count": 69,
   "metadata": {},
   "outputs": [
    {
     "data": {
      "text/plain": [
       "(85, 4)"
      ]
     },
     "execution_count": 69,
     "metadata": {},
     "output_type": "execute_result"
    }
   ],
   "source": [
    "trainingDataFeatures.shape"
   ]
  },
  {
   "cell_type": "code",
   "execution_count": 70,
   "metadata": {},
   "outputs": [],
   "source": [
    "treeStep1 = trainingDataFeatures.loc[trainingDataFeatures.PRO_PERCENT > 0.259]"
   ]
  },
  {
   "cell_type": "code",
   "execution_count": 71,
   "metadata": {},
   "outputs": [],
   "source": [
    "treeStep2 = treeStep1.loc[treeStep1.PRO_PERCENT > 0.294]"
   ]
  },
  {
   "cell_type": "code",
   "execution_count": 72,
   "metadata": {},
   "outputs": [],
   "source": [
    "treeStep3 = treeStep2.loc[treeStep2.HCLUS > 0.5]"
   ]
  },
  {
   "cell_type": "code",
   "execution_count": 73,
   "metadata": {},
   "outputs": [
    {
     "data": {
      "text/plain": [
       "Int64Index([77, 78, 79, 80, 81], dtype='int64')"
      ]
     },
     "execution_count": 73,
     "metadata": {},
     "output_type": "execute_result"
    }
   ],
   "source": [
    "treeStep3.index"
   ]
  },
  {
   "cell_type": "code",
   "execution_count": 74,
   "metadata": {},
   "outputs": [
    {
     "data": {
      "text/html": [
       "<div>\n",
       "<style scoped>\n",
       "    .dataframe tbody tr th:only-of-type {\n",
       "        vertical-align: middle;\n",
       "    }\n",
       "\n",
       "    .dataframe tbody tr th {\n",
       "        vertical-align: top;\n",
       "    }\n",
       "\n",
       "    .dataframe thead th {\n",
       "        text-align: right;\n",
       "    }\n",
       "</style>\n",
       "<table border=\"1\" class=\"dataframe\">\n",
       "  <thead>\n",
       "    <tr style=\"text-align: right;\">\n",
       "      <th></th>\n",
       "      <th>REGIONID</th>\n",
       "      <th>PRODUCTGROUP</th>\n",
       "      <th>PRODUCT</th>\n",
       "      <th>ITEM</th>\n",
       "      <th>YEARWEEK</th>\n",
       "      <th>YEAR</th>\n",
       "      <th>WEEK</th>\n",
       "      <th>QTY</th>\n",
       "      <th>HOLIDAY</th>\n",
       "      <th>HCLUS</th>\n",
       "      <th>PROMOTION</th>\n",
       "      <th>PRO_PERCENT</th>\n",
       "      <th>HOLIDAY_NEW</th>\n",
       "      <th>PROMOTION_NEW</th>\n",
       "    </tr>\n",
       "  </thead>\n",
       "  <tbody>\n",
       "    <tr>\n",
       "      <th>77</th>\n",
       "      <td>SEOUL_BANK_001</td>\n",
       "      <td>PG02</td>\n",
       "      <td>PRODUCT0010</td>\n",
       "      <td>ITEM0115</td>\n",
       "      <td>201625</td>\n",
       "      <td>2016</td>\n",
       "      <td>25</td>\n",
       "      <td>968.0</td>\n",
       "      <td>Y</td>\n",
       "      <td>1</td>\n",
       "      <td>Y</td>\n",
       "      <td>0.308584</td>\n",
       "      <td>1</td>\n",
       "      <td>1</td>\n",
       "    </tr>\n",
       "    <tr>\n",
       "      <th>78</th>\n",
       "      <td>SEOUL_BANK_001</td>\n",
       "      <td>PG02</td>\n",
       "      <td>PRODUCT0010</td>\n",
       "      <td>ITEM0115</td>\n",
       "      <td>201626</td>\n",
       "      <td>2016</td>\n",
       "      <td>26</td>\n",
       "      <td>1685.0</td>\n",
       "      <td>Y</td>\n",
       "      <td>1</td>\n",
       "      <td>Y</td>\n",
       "      <td>0.308584</td>\n",
       "      <td>1</td>\n",
       "      <td>1</td>\n",
       "    </tr>\n",
       "    <tr>\n",
       "      <th>79</th>\n",
       "      <td>SEOUL_BANK_001</td>\n",
       "      <td>PG02</td>\n",
       "      <td>PRODUCT0010</td>\n",
       "      <td>ITEM0115</td>\n",
       "      <td>201627</td>\n",
       "      <td>2016</td>\n",
       "      <td>27</td>\n",
       "      <td>1586.0</td>\n",
       "      <td>Y</td>\n",
       "      <td>1</td>\n",
       "      <td>Y</td>\n",
       "      <td>0.308584</td>\n",
       "      <td>1</td>\n",
       "      <td>1</td>\n",
       "    </tr>\n",
       "    <tr>\n",
       "      <th>80</th>\n",
       "      <td>SEOUL_BANK_001</td>\n",
       "      <td>PG02</td>\n",
       "      <td>PRODUCT0010</td>\n",
       "      <td>ITEM0115</td>\n",
       "      <td>201628</td>\n",
       "      <td>2016</td>\n",
       "      <td>28</td>\n",
       "      <td>1616.0</td>\n",
       "      <td>Y</td>\n",
       "      <td>1</td>\n",
       "      <td>Y</td>\n",
       "      <td>0.308584</td>\n",
       "      <td>1</td>\n",
       "      <td>1</td>\n",
       "    </tr>\n",
       "    <tr>\n",
       "      <th>81</th>\n",
       "      <td>SEOUL_BANK_001</td>\n",
       "      <td>PG02</td>\n",
       "      <td>PRODUCT0010</td>\n",
       "      <td>ITEM0115</td>\n",
       "      <td>201629</td>\n",
       "      <td>2016</td>\n",
       "      <td>29</td>\n",
       "      <td>1318.0</td>\n",
       "      <td>Y</td>\n",
       "      <td>1</td>\n",
       "      <td>Y</td>\n",
       "      <td>0.308584</td>\n",
       "      <td>1</td>\n",
       "      <td>1</td>\n",
       "    </tr>\n",
       "  </tbody>\n",
       "</table>\n",
       "</div>"
      ],
      "text/plain": [
       "          REGIONID PRODUCTGROUP      PRODUCT      ITEM  YEARWEEK  YEAR  WEEK  \\\n",
       "77  SEOUL_BANK_001         PG02  PRODUCT0010  ITEM0115    201625  2016    25   \n",
       "78  SEOUL_BANK_001         PG02  PRODUCT0010  ITEM0115    201626  2016    26   \n",
       "79  SEOUL_BANK_001         PG02  PRODUCT0010  ITEM0115    201627  2016    27   \n",
       "80  SEOUL_BANK_001         PG02  PRODUCT0010  ITEM0115    201628  2016    28   \n",
       "81  SEOUL_BANK_001         PG02  PRODUCT0010  ITEM0115    201629  2016    29   \n",
       "\n",
       "       QTY HOLIDAY  HCLUS PROMOTION  PRO_PERCENT  HOLIDAY_NEW  PROMOTION_NEW  \n",
       "77   968.0       Y      1         Y     0.308584            1              1  \n",
       "78  1685.0       Y      1         Y     0.308584            1              1  \n",
       "79  1586.0       Y      1         Y     0.308584            1              1  \n",
       "80  1616.0       Y      1         Y     0.308584            1              1  \n",
       "81  1318.0       Y      1         Y     0.308584            1              1  "
      ]
     },
     "execution_count": 74,
     "metadata": {},
     "output_type": "execute_result"
    }
   ],
   "source": [
    "featuresData.loc[  treeStep3.index ]"
   ]
  },
  {
   "cell_type": "code",
   "execution_count": 75,
   "metadata": {},
   "outputs": [
    {
     "data": {
      "text/plain": [
       "1434.6"
      ]
     },
     "execution_count": 75,
     "metadata": {},
     "output_type": "execute_result"
    }
   ],
   "source": [
    "trainingDataLabel.loc[treeStep3.index].QTY.mean()"
   ]
  },
  {
   "cell_type": "markdown",
   "metadata": {},
   "source": [
    "# graphviz 시각화"
   ]
  },
  {
   "cell_type": "code",
   "execution_count": 76,
   "metadata": {},
   "outputs": [
    {
     "ename": "ModuleNotFoundError",
     "evalue": "No module named 'graphviz'",
     "output_type": "error",
     "traceback": [
      "\u001b[1;31m---------------------------------------------------------------------------\u001b[0m",
      "\u001b[1;31mModuleNotFoundError\u001b[0m                       Traceback (most recent call last)",
      "\u001b[1;32m<ipython-input-76-f854a1ed6f53>\u001b[0m in \u001b[0;36m<module>\u001b[1;34m\u001b[0m\n\u001b[0;32m      1\u001b[0m \u001b[1;32mfrom\u001b[0m \u001b[0msklearn\u001b[0m\u001b[1;33m.\u001b[0m\u001b[0mtree\u001b[0m \u001b[1;32mimport\u001b[0m \u001b[0mexport_graphviz\u001b[0m\u001b[1;33m\u001b[0m\u001b[1;33m\u001b[0m\u001b[0m\n\u001b[1;32m----> 2\u001b[1;33m \u001b[1;32mimport\u001b[0m \u001b[0mgraphviz\u001b[0m\u001b[1;33m\u001b[0m\u001b[1;33m\u001b[0m\u001b[0m\n\u001b[0m\u001b[0;32m      3\u001b[0m \u001b[1;33m\u001b[0m\u001b[0m\n\u001b[0;32m      4\u001b[0m export_graphviz(decision_tree=model_rf.estimators_[30],\n\u001b[0;32m      5\u001b[0m                 \u001b[0mout_file\u001b[0m\u001b[1;33m=\u001b[0m\u001b[1;34m\"tree.dot\"\u001b[0m\u001b[1;33m,\u001b[0m\u001b[1;33m\u001b[0m\u001b[1;33m\u001b[0m\u001b[0m\n",
      "\u001b[1;31mModuleNotFoundError\u001b[0m: No module named 'graphviz'"
     ]
    }
   ],
   "source": [
    "from sklearn.tree import export_graphviz\n",
    "import graphviz\n",
    "\n",
    "export_graphviz(decision_tree=model_rf.estimators_[30],\n",
    "                out_file=\"tree.dot\",\n",
    "                impurity=True)\n",
    "with open(\"tree.dot\") as f:\n",
    "    dot_graph = f.read()\n",
    "display(graphviz.Source(dot_graph))"
   ]
  },
  {
   "cell_type": "markdown",
   "metadata": {},
   "source": [
    "# 모델 저장"
   ]
  },
  {
   "cell_type": "code",
   "execution_count": 77,
   "metadata": {},
   "outputs": [],
   "source": [
    "import pickle"
   ]
  },
  {
   "cell_type": "code",
   "execution_count": 78,
   "metadata": {},
   "outputs": [],
   "source": [
    "filename = 'finalized_model.sav'\n",
    "pickle.dump(model_dt, open(filename, 'wb'))"
   ]
  },
  {
   "cell_type": "code",
   "execution_count": null,
   "metadata": {},
   "outputs": [],
   "source": []
  },
  {
   "cell_type": "code",
   "execution_count": null,
   "metadata": {},
   "outputs": [],
   "source": []
  }
 ],
 "metadata": {
  "kernelspec": {
   "display_name": "Python 3",
   "language": "python",
   "name": "python3"
  },
  "language_info": {
   "codemirror_mode": {
    "name": "ipython",
    "version": 3
   },
   "file_extension": ".py",
   "mimetype": "text/x-python",
   "name": "python",
   "nbconvert_exporter": "python",
   "pygments_lexer": "ipython3",
   "version": "3.8.5"
  }
 },
 "nbformat": 4,
 "nbformat_minor": 4
}
