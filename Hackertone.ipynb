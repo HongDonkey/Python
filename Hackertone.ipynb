{
 "cells": [
  {
   "cell_type": "code",
   "execution_count": 32,
   "metadata": {},
   "outputs": [
    {
     "name": "stdout",
     "output_type": "stream",
     "text": [
      "2360\n",
      "3776\n",
      "1416\n",
      "181720\n"
     ]
    }
   ],
   "source": [
    "n1 = 472\n",
    "n2 = 385\n",
    "modN2 = n2 % 10\n",
    "n3 = modN2 * n1\n",
    "print(n3)\n",
    "modN3 = 385 // 10 \n",
    "modN4 = modN3 % 10\n",
    "modN4\n",
    "n4 = n1 * modN4\n",
    "print(n4)\n",
    "modN5 = n2 // 100\n",
    "n5 = modN5 * n1\n",
    "print(n5)\n",
    "n6 = n1 * n2\n",
    "print(n6)"
   ]
  },
  {
   "cell_type": "code",
   "execution_count": 2,
   "metadata": {},
   "outputs": [],
   "source": [
    "# 디지털 시계에 하루동안(00:00~23:59) 3이 표시되는 시간을 초로 환산하면 총 몇 초(second) 일까요?\n",
    "\n",
    "# //디지털 시계는 하루동안 다음과 같이 시:분(00:00~23:59)으로 표시됩니다."
   ]
  },
  {
   "cell_type": "code",
   "execution_count": 1,
   "metadata": {},
   "outputs": [
    {
     "name": "stdout",
     "output_type": "stream",
     "text": [
      "[3]\n",
      "[3, 3]\n",
      "[3, 3, 3]\n",
      "[3, 3, 3, 3]\n",
      "[3, 3, 3, 3, 3]\n",
      "[3, 3, 3, 3, 3, 3]\n",
      "[3, 3, 3, 3, 3, 3, 13]\n",
      "[3, 3, 3, 3, 3, 3, 13, 13]\n",
      "[3, 3, 3, 3, 3, 3, 13, 13, 13]\n",
      "[3, 3, 3, 3, 3, 3, 13, 13, 13, 13]\n",
      "[3, 3, 3, 3, 3, 3, 13, 13, 13, 13, 13]\n",
      "[3, 3, 3, 3, 3, 3, 13, 13, 13, 13, 13, 13]\n",
      "[3, 3, 3, 3, 3, 3, 13, 13, 13, 13, 13, 13, 23]\n",
      "[3, 3, 3, 3, 3, 3, 13, 13, 13, 13, 13, 13, 23, 23]\n",
      "[3, 3, 3, 3, 3, 3, 13, 13, 13, 13, 13, 13, 23, 23, 23]\n",
      "[3, 3, 3, 3, 3, 3, 13, 13, 13, 13, 13, 13, 23, 23, 23, 23]\n",
      "[3, 3, 3, 3, 3, 3, 13, 13, 13, 13, 13, 13, 23, 23, 23, 23, 23]\n",
      "[3, 3, 3, 3, 3, 3, 13, 13, 13, 13, 13, 13, 23, 23, 23, 23, 23, 23]\n"
     ]
    }
   ],
   "source": [
    "hour = range(0, 24)\n",
    "minute = range(0, 60)\n",
    "hourList = list(hour)\n",
    "minuteList = list(minute)\n",
    "hour3 = []\n",
    "minute3 = []\n",
    "\n",
    "# print(hourList)\n",
    "for i in hourList:\n",
    "    if i % 10 == 3:\n",
    "        for j in minuteList:  \n",
    "            if j % 10 == 3:  \n",
    "                hour3.append(i)\n",
    "                print(hour3)\n",
    "                continue\n",
    "                minute3.append(j)\n",
    "                print(minute3)\n",
    "                break\n",
    "\n"
   ]
  },
  {
   "cell_type": "code",
   "execution_count": null,
   "metadata": {},
   "outputs": [],
   "source": []
  }
 ],
 "metadata": {
  "kernelspec": {
   "display_name": "Python 3",
   "language": "python",
   "name": "python3"
  },
  "language_info": {
   "codemirror_mode": {
    "name": "ipython",
    "version": 3
   },
   "file_extension": ".py",
   "mimetype": "text/x-python",
   "name": "python",
   "nbconvert_exporter": "python",
   "pygments_lexer": "ipython3",
   "version": "3.8.5"
  }
 },
 "nbformat": 4,
 "nbformat_minor": 4
}
