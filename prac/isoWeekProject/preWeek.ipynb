{
 "cells": [
  {
   "cell_type": "markdown",
   "metadata": {},
   "source": [
    "# ISOWEEK를 활용하여 주차 정보의 이전을 구하는 프로그램 작성"
   ]
  },
  {
   "cell_type": "code",
   "execution_count": 1,
   "metadata": {},
   "outputs": [
    {
     "name": "stdout",
     "output_type": "stream",
     "text": [
      "2013 46\n"
     ]
    }
   ],
   "source": [
    "from isoweek import Week\n",
    "\n",
    "def preWeek(indexWeek, diffWeek):\n",
    "\n",
    "\n",
    "    standardYear=int(str(indexWeek)[:4])\n",
    "    standardWeek=int(str(indexWeek)[4:]) # 6자리의 날짜정보를 입력받아 4자리의년도정보와 2자리의주차정보로 분리 \n",
    "    # print(standardWeek) # 분리가 잘 되었는지 확인\n",
    "    \n",
    "    \n",
    "    resultWeek = standardWeek - diffWeek # resultWeek 변수에 분리된 주차정보의 값과 이전을 구할 주차정보의 값을 차감하여 정의\n",
    "    # resultWeek # 변수정보 확인\n",
    "\n",
    "    if resultWeek > 0:      # 분리된 주차정보의 값과 이전을 구할 주차정보를 차감한 값이 0보다 크다면\n",
    "        result = print(standardYear, resultWeek)   # 년도정보는 그대로 두고 구해준 resultWeek 값을 그대로 사용\n",
    "        return result\n",
    "        \n",
    "\n",
    "    elif standardWeek == diffWeek:    # 분리된 주차정보의 값과 이전을 구할 주차정보의 값이 같다면\n",
    "        resYear = standardYear - 1    # 0주차라는 개념은 존재하지 않으므로 이전 년도의 주차정보로 되돌림\n",
    "        resWeek = Week.last_week_of_year(standardYear-1).week    # 주차정보에는 전년도의 총 주차정보를 넣어줌\n",
    "        result = print(resYear,resWeek)\n",
    "        return result\n",
    "    \n",
    "    else:                                           # 분리된 주차정보의 값과 이전을 구할 주차정보를 차감한 값이 0보다 작다면\n",
    "        quotient = resultWeek // Week.last_week_of_year(standardYear).week    #  분리된 주차정보의 값과 이전을 구할 주차정보를 차감한 값을 총 주차정보로 나누어 나온 몫을 quotient변수에 정의\n",
    "        resYear = standardYear + quotient            # 기존년도 정보에 분리된 주차정보의 값과 이전을 구할 주차정보를 차감한 값을 나누어 나온 몫을 더하여줌(quotient의 값이 음수이기 때문에 더하여준다.)\n",
    "        resWeek = Week.last_week_of_year(resYear).week -(resultWeek * -1 % Week.last_week_of_year(resYear).week)  # 정확한 값을 얻기 위하여 resultWeek 값을 양수로 만들어 준 후에\n",
    "                                                                                                                  # 총 주차정보로 나누어 나온 나머지 값을 총 주차정보에서 차감해준다.\n",
    "        result = print(resYear, resWeek)\n",
    "        return result\n",
    "    \n",
    "\n",
    "preWeek(201746,208)\n",
    "\n",
    "        \n",
    "\n",
    "\n"
   ]
  },
  {
   "cell_type": "code",
   "execution_count": null,
   "metadata": {},
   "outputs": [],
   "source": []
  }
 ],
 "metadata": {
  "kernelspec": {
   "display_name": "Python 3",
   "language": "python",
   "name": "python3"
  },
  "language_info": {
   "codemirror_mode": {
    "name": "ipython",
    "version": 3
   },
   "file_extension": ".py",
   "mimetype": "text/x-python",
   "name": "python",
   "nbconvert_exporter": "python",
   "pygments_lexer": "ipython3",
   "version": "3.8.5"
  }
 },
 "nbformat": 4,
 "nbformat_minor": 4
}
