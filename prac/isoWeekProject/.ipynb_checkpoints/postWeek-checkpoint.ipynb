{
 "cells": [
  {
   "cell_type": "markdown",
   "metadata": {},
   "source": [
    "# ISOWEEK를 활용하여 주차 정보의 이후를 구하는 프로그램 작성"
   ]
  },
  {
   "cell_type": "code",
   "execution_count": null,
   "metadata": {},
   "outputs": [],
   "source": [
    "import isoweek as week # 해당년도의 총 주차정보를 구하기 위해 isoweek를 import해온다\n",
    "\n",
    "def postWeek(indexWeek,addWeek):\n",
    "\n",
    "    # 연도정보4자리와 주차정보2자리를 입력받고 더해줄 주차정보2자리를 입력받아 나오는 년도정보와 주차정보를 구하시오\n",
    "    # indexWeek = 202020\n",
    "    # addWeek = 500\n",
    "    standardYear=int(str(indexWeek)[:4])\n",
    "    standardWeek=int(str(indexWeek)[4:]) # 6자리의 연도정보와주차정보를 각각 4자리의 연도정보, 2자리의 주차정보로 분리해준다\n",
    "    # print(standardYear)\n",
    "\n",
    "    resultWeek = standardWeek + addWeek # 분리한 주차정보와 더해줄 주차정보의 합을 구한 변수를 만든다.\n",
    "    # print(resultWeek)\n",
    "\n",
    "    if resultWeek < Week.last_week_of_year(standardYear).week :\n",
    "        resYear = standardYear\n",
    "        result = print(resYear,resultWeek)\n",
    "        return result\n",
    "        # resultWeek의 값이 해당년도의 총 주차정보보다 작다면 해당년도의 정보와 resultWeek를 출력한다.\n",
    "    else:\n",
    "        quotient = resultWeek//Week.last_week_of_year(standardYear).week\n",
    "        resYear = standardYear + quotient\n",
    "        resWeek = resultWeek%Week.last_week_of_year(standardYear).week\n",
    "        result = print(resYear, resWeek)\n",
    "        return result\n",
    "        #resultWeek의 값이 해당년도의 총 주차정보보다 크다면 resultWeeek를 해당 년도의 총 주차정보로 나누어 몫을 년도에 더해주고 나머지 값을 주차정보로 반환한다.\n",
    "        #실행에 오류가 없다면 출력문을 return하여 함수로 만든다.\n",
    "        \n",
    "postWeek(202020, 55)"
   ]
  }
 ],
 "metadata": {
  "kernelspec": {
   "display_name": "Python 3",
   "language": "python",
   "name": "python3"
  },
  "language_info": {
   "codemirror_mode": {
    "name": "ipython",
    "version": 3
   },
   "file_extension": ".py",
   "mimetype": "text/x-python",
   "name": "python",
   "nbconvert_exporter": "python",
   "pygments_lexer": "ipython3",
   "version": "3.8.5"
  }
 },
 "nbformat": 4,
 "nbformat_minor": 4
}
