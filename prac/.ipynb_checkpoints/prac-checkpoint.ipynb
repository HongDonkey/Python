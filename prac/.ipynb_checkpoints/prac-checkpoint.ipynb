{
 "cells": [
  {
   "cell_type": "markdown",
   "metadata": {},
   "source": [
    "# 랜덤한 숫자 20개를 내림차순 정렬"
   ]
  },
  {
   "cell_type": "code",
   "execution_count": 57,
   "metadata": {},
   "outputs": [],
   "source": [
    "import random as rd # 랜덤함수를 쓰기위하여 random 임포트"
   ]
  },
  {
   "cell_type": "code",
   "execution_count": 61,
   "metadata": {},
   "outputs": [
    {
     "data": {
      "text/plain": [
       "[1, 2, 3, 3, 3, 3, 4, 5, 5, 8, 8, 14, 15, 16, 16, 17, 18, 20, 20, 20]"
      ]
     },
     "execution_count": 61,
     "metadata": {},
     "output_type": "execute_result"
    }
   ],
   "source": [
    "arr = [0 for i in range (20)] # 배열의 크기를 20개로 선언\n",
    "for i in range(0, len(arr)): # 배열의 크기만큼 반복하여 줌\n",
    "    arr[i] = rd.randint(1,20) # 반복할때마다 배열에 랜덤한 인수를 넣어줌\n",
    "arr.sort(reverse=False)  # 배열을 오름차순 정렬함\n",
    "arr # 출력확인\n"
   ]
  },
  {
   "cell_type": "markdown",
   "metadata": {},
   "source": [
    "\n",
    "# Quiz) 당신은 최근에  코딩 스터디 모임을 새로 만들었습니다 월 4회 스터디를 하는데 3번은 온라인으로 하고 1번은 오프라인으로 하기로 했습니다. 아래 조건에 맞는 오프라인 모임 날짜를 정해주는 프로그램을 작성하시오\n",
    "\n",
    "# 조건1 : 랜덤으로 날짜를 뽑아야 함\n",
    "# 조건2 : 월별 날짜는 다름을 감안하여 최소 일수인 28 이내로 정함 (아무리 늦어도 28일 이내의 날짜로 선정)\n",
    "# 조건3 : 매월 1~3일은 스터디 준비를 해야 하므로 제외\n",
    "\n",
    "# 출력문 예제 (오프라인 스터디 모임 날짜는 매월 XX 일로 선정되었습니다.)"
   ]
  },
  {
   "cell_type": "code",
   "execution_count": 64,
   "metadata": {},
   "outputs": [],
   "source": [
    "import random as rd"
   ]
  },
  {
   "cell_type": "code",
   "execution_count": 86,
   "metadata": {},
   "outputs": [
    {
     "name": "stdout",
     "output_type": "stream",
     "text": [
      "오프라인 스터디 모임 날짜는 매월 27일로 선정되었습니다.\n"
     ]
    }
   ],
   "source": [
    "rand = rd.randint(4,28)\n",
    "print(\"오프라인 스터디 모임 날짜는 매월 {0}일로 선정되었습니다.\".format(rand))"
   ]
  }
 ],
 "metadata": {
  "kernelspec": {
   "display_name": "Python 3",
   "language": "python",
   "name": "python3"
  },
  "language_info": {
   "codemirror_mode": {
    "name": "ipython",
    "version": 3
   },
   "file_extension": ".py",
   "mimetype": "text/x-python",
   "name": "python",
   "nbconvert_exporter": "python",
   "pygments_lexer": "ipython3",
   "version": "3.8.5"
  }
 },
 "nbformat": 4,
 "nbformat_minor": 4
}
