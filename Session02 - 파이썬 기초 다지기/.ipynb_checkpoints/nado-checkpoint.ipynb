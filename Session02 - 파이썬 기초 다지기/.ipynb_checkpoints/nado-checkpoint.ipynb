{
 "cells": [
  {
   "cell_type": "markdown",
   "metadata": {},
   "source": [
    "# dictionary"
   ]
  },
  {
   "cell_type": "code",
   "execution_count": 1,
   "metadata": {},
   "outputs": [
    {
     "name": "stdout",
     "output_type": "stream",
     "text": [
      "유재석\n",
      "김태호\n",
      "유재석\n"
     ]
    },
    {
     "ename": "KeyError",
     "evalue": "5",
     "output_type": "error",
     "traceback": [
      "\u001b[1;31m---------------------------------------------------------------------------\u001b[0m",
      "\u001b[1;31mKeyError\u001b[0m                                  Traceback (most recent call last)",
      "\u001b[1;32m<ipython-input-1-57b2a9ab42b5>\u001b[0m in \u001b[0;36m<module>\u001b[1;34m\u001b[0m\n\u001b[0;32m      6\u001b[0m \u001b[0mprint\u001b[0m\u001b[1;33m(\u001b[0m\u001b[0mcabinet\u001b[0m\u001b[1;33m.\u001b[0m\u001b[0mget\u001b[0m\u001b[1;33m(\u001b[0m\u001b[1;36m3\u001b[0m\u001b[1;33m)\u001b[0m\u001b[1;33m)\u001b[0m \u001b[1;31m# 3번 키의 밸류인 \"유재석\" 출력\u001b[0m\u001b[1;33m\u001b[0m\u001b[1;33m\u001b[0m\u001b[0m\n\u001b[0;32m      7\u001b[0m \u001b[1;33m\u001b[0m\u001b[0m\n\u001b[1;32m----> 8\u001b[1;33m \u001b[0mprint\u001b[0m\u001b[1;33m(\u001b[0m\u001b[0mcabinet\u001b[0m\u001b[1;33m[\u001b[0m\u001b[1;36m5\u001b[0m\u001b[1;33m]\u001b[0m\u001b[1;33m)\u001b[0m \u001b[1;31m# 없는 키 값을 대괄호에 입력할 경우 오류를 발생시키고 출력이 중지\u001b[0m\u001b[1;33m\u001b[0m\u001b[1;33m\u001b[0m\u001b[0m\n\u001b[0m\u001b[0;32m      9\u001b[0m \u001b[0mprint\u001b[0m\u001b[1;33m(\u001b[0m\u001b[0mcabinet\u001b[0m\u001b[1;33m.\u001b[0m\u001b[0mget\u001b[0m\u001b[1;33m(\u001b[0m\u001b[1;36m5\u001b[0m\u001b[1;33m)\u001b[0m\u001b[1;33m)\u001b[0m \u001b[1;31m# 없는 키 값을 소괄호에 입력할 경우 다음 출력문을 실행\u001b[0m\u001b[1;33m\u001b[0m\u001b[1;33m\u001b[0m\u001b[0m\n\u001b[0;32m     10\u001b[0m \u001b[0mprint\u001b[0m\u001b[1;33m(\u001b[0m\u001b[1;34m\"hi\"\u001b[0m\u001b[1;33m)\u001b[0m \u001b[1;31m# 위 출력문에 5번 키가 없기 때문에 \"hi\"라는 텍스트 출력\u001b[0m\u001b[1;33m\u001b[0m\u001b[1;33m\u001b[0m\u001b[0m\n",
      "\u001b[1;31mKeyError\u001b[0m: 5"
     ]
    }
   ],
   "source": [
    "cabinet = {3:\"유재석\", 100:\"김태호\"}\n",
    "print(cabinet[3]) # 3번 키의 밸류인 \"유재석\" 출력\n",
    "\n",
    "print(cabinet[100]) # 100번 키의 밸류인 \"김태호\" 출력\n",
    "\n",
    "print(cabinet.get(3)) # 3번 키의 밸류인 \"유재석\" 출력\n",
    "\n",
    "print(cabinet[5]) # 없는 키 값을 대괄호에 입력할 경우 오류를 발생시키고 출력이 중지\n",
    "print(cabinet.get(5)) # 없는 키 값을 소괄호에 입력할 경우 다음 출력문을 실행\n",
    "print(\"hi\") # 위 출력문에 5번 키가 없기 때문에 \"hi\"라는 텍스트 출력\n",
    "\n",
    "print(cabinet.get(5,\"사용 가능\")) # 5번 키 값이 없기 때문에 \"사용 가능\"이라는 텍스트 출력\n",
    "print(3 in cabinet) # 3번 키를 사용하고 있기 때문에 True값을 출력\n",
    "\n",
    "print(5 in cabinet)  # 5번 키를 사용하고 있기 때문에 False값을 출력\n",
    "\n",
    "cabinet = {\"A-3\" : \"유재석\", \"B-100\": \"김태호\"} # 문자열도 사용 가능\n",
    "print(cabinet[\"A-3\"]) \n",
    "print(cabinet[\"B-100\"])\n",
    "\n",
    "print(cabinet)\n",
    "cabinet[\"C-20\"] = \"조세호\" # 키와 밸류값을 추가\n",
    "cabinet[\"A-3\"] = \"김종국\" # A-3키의 밸류값을 변경\n",
    "print(cabinet)\n",
    "\n",
    "cabinet.pop(\"A-3\")\n",
    "del cabinet[\"A-3\"] #A-3의 키와 밸류 삭제\n",
    "print(cabinet)\n",
    "\n",
    "print(cabinet.keys()) #키값만 불러오기\n",
    "\n",
    "print(cabinet.values()) #밸류값만 불러오기\n",
    "\n",
    "print(cabinet.items()) # 키와 밸류 값을 묶어서 불러오기\n",
    "\n",
    "cabinet.clear() #dictionary 전체 삭제\n",
    "print(cabinet)"
   ]
  },
  {
   "cell_type": "markdown",
   "metadata": {},
   "source": [
    "# tuple"
   ]
  },
  {
   "cell_type": "code",
   "execution_count": 33,
   "metadata": {},
   "outputs": [],
   "source": [
    "menu = (\"돈까스\", \"치즈까스\")\n",
    "print(menu[0])\n",
    "print(menu[1])\n",
    "\n",
    "# menu.add(\"생선까스\") #튜플은 add를 지원하지 않음(변경, 추가 불가)\n",
    "\n",
    "\n",
    "(name, age, hobby) = (\"김종국\", 20, \"코딩\") #이런 방식으로 한번에 튜플 생성 가능\n",
    "print(name, age, hobby)"
   ]
  },
  {
   "cell_type": "markdown",
   "metadata": {},
   "source": [
    "# set"
   ]
  },
  {
   "cell_type": "code",
   "execution_count": 42,
   "metadata": {},
   "outputs": [
    {
     "name": "stdout",
     "output_type": "stream",
     "text": [
      "{1, 2, 3}\n",
      "{'유재석'}\n",
      "{'유재석'}\n",
      "{'유재석', '양세형', '김태호', '박명수'}\n",
      "{'유재석', '양세형', '김태호', '박명수'}\n",
      "{'김태호', '양세형'}\n",
      "{'김태호', '양세형'}\n",
      "{'유재석', '김태호', '박명수'}\n",
      "{'유재석', '양세형'}\n"
     ]
    }
   ],
   "source": [
    "# 중복 X , 순서 X\n",
    "mySet = {1,2,3,3,3} #중복이 안 되기 때문에 1,2,3 만 출력\n",
    "print(mySet)\n",
    "\n",
    "java = {\"유재석\", \"김태호\", \"양세형\"}\n",
    "python = set([\"유재석\", \"박명수\"])\n",
    "\n",
    "print(java & python) #교집합 출력\n",
    "print(java.intersection(python)) #교집합 출력\n",
    "\n",
    "print(java|python) # 합집합 출력\n",
    "print(java.union(python)) # 합집합 출력\n",
    "\n",
    "print(java - python) # 차집합 출력\n",
    "print(java.difference(python)) # 차집합 출력\n",
    "\n",
    "python.add(\"김태호\") # 집합에 항목 추가\n",
    "print(python)\n",
    "\n",
    "java.remove(\"김태호\") # 집합에서 항목 제거\n",
    "print(java)"
   ]
  },
  {
   "cell_type": "markdown",
   "metadata": {},
   "source": [
    "# 자료구조의 변경"
   ]
  },
  {
   "cell_type": "code",
   "execution_count": 48,
   "metadata": {},
   "outputs": [
    {
     "name": "stdout",
     "output_type": "stream",
     "text": [
      "{'쥬스', '커피', '우유'} <class 'set'>\n",
      "['쥬스', '커피', '우유'] <class 'list'>\n",
      "('쥬스', '커피', '우유') <class 'tuple'>\n",
      "{'쥬스', '커피', '우유'} <class 'set'>\n"
     ]
    }
   ],
   "source": [
    "menu = {\"커피\", \"우유\", \"쥬스\"}\n",
    "print(menu, type(menu))\n",
    "\n",
    "menu = list(menu) # 세트 -> 리스트로 변경\n",
    "print(menu, type(menu))\n",
    "\n",
    "menu = tuple(menu) # 리스트 -> 튜플로 변경\n",
    "print(menu, type(menu))\n",
    "\n",
    "menu = set(menu) # 다시 세트로 변경\n",
    "print(menu, type(menu))\n",
    "\n",
    "#[리스트] , (튜플), {세트}, {사:전}\n"
   ]
  },
  {
   "cell_type": "markdown",
   "metadata": {},
   "source": [
    "# 퀴즈"
   ]
  },
  {
   "cell_type": "code",
   "execution_count": null,
   "metadata": {},
   "outputs": [],
   "source": [
    "# 댓글 작성자들 중 추첨을 통해 1명은 치킨, 3명은 커피 쿠폰을 받게된다.\n",
    "# 조건 1 : 댓글은 20명이 작성하였고 아이디는 1~20이라고 가정\n",
    "# 조건 2 : 댓글 내용과 상관 없이 무작위로 추첨하되 중복 불가\n",
    "# 조건 3 : random 모듈의 shuffle 과 sample을 활용\n",
    "\n",
    "# (출력 예제)   \n",
    "    \n",
    "# -- 당첨자 발표 --\n",
    "# 치킨 당첨자 : 1\n",
    "# 커피 당첨자 : [2,3,4]\n",
    "# -- 축하합니다 --\n",
    "\n",
    "# (활용 예제)\n",
    "\n",
    "# from random import *\n",
    "# lst = [1,2,3,4,5]\n",
    "# print(lst)\n",
    "# shuffle(lst)\n",
    "# print(lst)\n",
    "# print(sample(lst,1))\n",
    "    \n",
    "\n",
    "from random import *\n",
    "users = range(1,21)\n",
    "lst = list(users)\n",
    "shuffle(lst)\n",
    "winners = sample(users,4)\n",
    "print(\"--당첨자 발표--\"\n",
    "\"\\n치킨 당첨자 : {}\".format(winners[0])+\n",
    "\"\\n커피 당첨자 : {}\".format(winners[1:])+ \n",
    "\"\\n--축하합니다.--\"\n",
    "     )\n",
    "\n"
   ]
  },
  {
   "cell_type": "markdown",
   "metadata": {},
   "source": [
    "# if"
   ]
  },
  {
   "cell_type": "code",
   "execution_count": 4,
   "metadata": {},
   "outputs": [],
   "source": [
    "weather = input(\"오늘 날씨는 어때요?\")\n",
    "if weather == \"비\" or weather == \"눈\":\n",
    "    print(\"우산을 챙기세요\")\n",
    "elif weather == \"미세먼지\":\n",
    "    print(\"마스크를 챙기세요\")\n",
    "else:\n",
    "    print(\"오늘은 준비물이 필요 없어요\")\n",
    "\n",
    "temp = int(input(\"기온은 어때요?\"))\n",
    "if 30 <= temp:\n",
    "    print(\"너무 더워요. 나가지 마세요\")\n",
    "elif 10 <= temp and temp < 30:\n",
    "    print(\"괜찮은 날씨에요\")\n",
    "elif 0 <= temp and temp < 10:\n",
    "    print(\"외투를 챙기세요\")\n",
    "else:\n",
    "    print(\"너무 추워요. 나가지 마세요\")"
   ]
  },
  {
   "cell_type": "markdown",
   "metadata": {},
   "source": [
    "# for "
   ]
  },
  {
   "cell_type": "code",
   "execution_count": 7,
   "metadata": {},
   "outputs": [
    {
     "name": "stdout",
     "output_type": "stream",
     "text": [
      "대기번호 : 0\n",
      "대기번호 : 1\n",
      "대기번호 : 2\n",
      "대기번호 : 3\n",
      "대기번호 : 4\n",
      "대기번호 : 1\n",
      "대기번호 : 2\n",
      "대기번호 : 3\n",
      "대기번호 : 4\n",
      "대기번호 : 5\n",
      "아이언맨, 커피가 준비되었습니다.\n",
      "토르, 커피가 준비되었습니다.\n",
      "그루트, 커피가 준비되었습니다.\n"
     ]
    }
   ],
   "source": [
    "# 리스트를 이용할때\n",
    "for waiting_no in [0,1,2,3,4]:\n",
    "    print(\"대기번호 : {0}\".format(waiting_no))\n",
    "\n",
    "# 수열에 범위를 줄 때\n",
    "for waiting_no in range(1, 6):\n",
    "    print(\"대기번호 : {}\".format(waiting_no))\n",
    "\n",
    "# 리스트에서 하나씩 꺼내어서 반복문에 넣을때\n",
    "starbucks = [\"아이언맨\",\"토르\",\"그루트\"]\n",
    "for customer in starbucks:\n",
    "             print(\"{}, 커피가 준비되었습니다.\".format(customer))"
   ]
  },
  {
   "cell_type": "markdown",
   "metadata": {},
   "source": [
    "# while"
   ]
  },
  {
   "cell_type": "code",
   "execution_count": 11,
   "metadata": {},
   "outputs": [],
   "source": [
    "customer = \"토르\"\n",
    "index = 5\n",
    "while index >= 1:\n",
    "    print(\"{}, 커피가 준비 되었습니다. {}번 남았어요\".format(customer,index))\n",
    "    index -= 1\n",
    "    if index == 0:\n",
    "        print(\"커피는 폐기처분 되었습니다.\")\n",
    "        "
   ]
  },
  {
   "cell_type": "code",
   "execution_count": 2,
   "metadata": {},
   "outputs": [
    {
     "name": "stdout",
     "output_type": "stream",
     "text": [
      "토르, 커피가 준비 되었습니다.\n"
     ]
    },
    {
     "name": "stdin",
     "output_type": "stream",
     "text": [
      "이름이 어떻게 되세요? 아이언맨\n"
     ]
    },
    {
     "name": "stdout",
     "output_type": "stream",
     "text": [
      "토르, 커피가 준비 되었습니다.\n"
     ]
    },
    {
     "name": "stdin",
     "output_type": "stream",
     "text": [
      "이름이 어떻게 되세요? 그루트\n"
     ]
    },
    {
     "name": "stdout",
     "output_type": "stream",
     "text": [
      "토르, 커피가 준비 되었습니다.\n"
     ]
    },
    {
     "name": "stdin",
     "output_type": "stream",
     "text": [
      "이름이 어떻게 되세요? 토르\n"
     ]
    }
   ],
   "source": [
    "customer = \"토르\"\n",
    "person = \"Unknown\"\n",
    "\n",
    "while person != customer :\n",
    "    print(\"{}, 커피가 준비 되었습니다.\".format(customer))\n",
    "    person = input(\"이름이 어떻게 되세요?\")"
   ]
  },
  {
   "cell_type": "markdown",
   "metadata": {},
   "source": [
    "# continue, break"
   ]
  },
  {
   "cell_type": "code",
   "execution_count": 8,
   "metadata": {},
   "outputs": [
    {
     "name": "stdout",
     "output_type": "stream",
     "text": [
      "1, 책을 읽어봐\n",
      "3, 책을 읽어봐\n",
      "4, 책을 읽어봐\n",
      "6, 책을 읽어봐\n",
      "오늘 수업 여기까지. 7는 교무실로 와\n"
     ]
    }
   ],
   "source": [
    "absent = [2,5]\n",
    "no_book = [7]\n",
    "\n",
    "for student in range(1, 11):\n",
    "    if student in absent:\n",
    "        continue\n",
    "    \n",
    "    elif student in no_book:\n",
    "        print(\"오늘 수업 여기까지. {}는 교무실로 와\".format(student))\n",
    "        break\n",
    "    print(\"{}, 책을 읽어봐\".format(student))"
   ]
  },
  {
   "cell_type": "markdown",
   "metadata": {},
   "source": [
    "# 한 줄 for문"
   ]
  },
  {
   "cell_type": "code",
   "execution_count": 19,
   "metadata": {},
   "outputs": [
    {
     "name": "stdout",
     "output_type": "stream",
     "text": [
      "[1, 2, 3, 4, 5]\n",
      "[101, 102, 103, 104, 105]\n",
      "[8, 4, 10]\n"
     ]
    },
    {
     "data": {
      "text/plain": [
       "['iron man', 'thor', 'i am groot']"
      ]
     },
     "execution_count": 19,
     "metadata": {},
     "output_type": "execute_result"
    }
   ],
   "source": [
    "# 출석번호 앞에 100을 붙이기로 함 -> 101, 102, 103 ...\n",
    "students = [1,2,3,4,5]\n",
    "print(students)\n",
    "students = [i+100 for i in students]\n",
    "print(students)\n",
    "\n",
    "# 학생 이름을 길이로 변환\n",
    "students = [\"Iron man\", \"Thor\", \"I am groot\"]\n",
    "students = [len(i) for i in students] # i는 student라는 리스트 안에서 하나씩 반복하면서 글자수를 구함\n",
    "print(students)\n",
    "\n",
    "# 학생 이름을 대문자로 변환\n",
    "students = [\"Iron man\", \"Thor\", \"I am groot\"]\n",
    "students = [i.upper() for i in students]\n",
    "students = [i.lower() for i in students]\n",
    "students"
   ]
  },
  {
   "cell_type": "markdown",
   "metadata": {},
   "source": [
    "## 퀴즈"
   ]
  },
  {
   "cell_type": "code",
   "execution_count": 107,
   "metadata": {},
   "outputs": [
    {
     "name": "stdout",
     "output_type": "stream",
     "text": [
      "[ ] 1번째 손님 (소요시간 : 22분)\n",
      "[ ] 2번째 손님 (소요시간 : 18분)\n",
      "[ ] 3번째 손님 (소요시간 : 23분)\n",
      "[ ] 4번째 손님 (소요시간 : 45분)\n",
      "[ ] 5번째 손님 (소요시간 : 17분)\n",
      "[O] 6번째 손님 (소요시간 : 14분)\n",
      "[ ] 7번째 손님 (소요시간 : 42분)\n",
      "[ ] 8번째 손님 (소요시간 : 23분)\n",
      "[O] 9번째 손님 (소요시간 : 9분)\n",
      "[ ] 10번째 손님 (소요시간 : 45분)\n",
      "[O] 11번째 손님 (소요시간 : 10분)\n",
      "[ ] 12번째 손님 (소요시간 : 39분)\n",
      "[ ] 13번째 손님 (소요시간 : 28분)\n",
      "[O] 14번째 손님 (소요시간 : 7분)\n",
      "[O] 15번째 손님 (소요시간 : 12분)\n",
      "[ ] 16번째 손님 (소요시간 : 36분)\n",
      "[ ] 17번째 손님 (소요시간 : 30분)\n",
      "[ ] 18번째 손님 (소요시간 : 43분)\n",
      "[ ] 19번째 손님 (소요시간 : 41분)\n",
      "[ ] 20번째 손님 (소요시간 : 25분)\n",
      "[O] 21번째 손님 (소요시간 : 6분)\n",
      "[ ] 22번째 손님 (소요시간 : 23분)\n",
      "[ ] 23번째 손님 (소요시간 : 50분)\n",
      "[ ] 24번째 손님 (소요시간 : 23분)\n",
      "[ ] 25번째 손님 (소요시간 : 42분)\n",
      "[O] 26번째 손님 (소요시간 : 12분)\n",
      "[O] 27번째 손님 (소요시간 : 9분)\n",
      "[ ] 28번째 손님 (소요시간 : 18분)\n",
      "[ ] 29번째 손님 (소요시간 : 50분)\n",
      "[ ] 30번째 손님 (소요시간 : 25분)\n",
      "[ ] 31번째 손님 (소요시간 : 22분)\n",
      "[O] 32번째 손님 (소요시간 : 15분)\n",
      "[O] 33번째 손님 (소요시간 : 13분)\n",
      "[O] 34번째 손님 (소요시간 : 14분)\n",
      "[ ] 35번째 손님 (소요시간 : 42분)\n",
      "[ ] 36번째 손님 (소요시간 : 44분)\n",
      "[ ] 37번째 손님 (소요시간 : 17분)\n",
      "[ ] 38번째 손님 (소요시간 : 47분)\n",
      "[ ] 39번째 손님 (소요시간 : 41분)\n",
      "[ ] 40번째 손님 (소요시간 : 45분)\n",
      "[ ] 41번째 손님 (소요시간 : 33분)\n",
      "[ ] 42번째 손님 (소요시간 : 30분)\n",
      "[ ] 43번째 손님 (소요시간 : 23분)\n",
      "[O] 44번째 손님 (소요시간 : 5분)\n",
      "[O] 45번째 손님 (소요시간 : 7분)\n",
      "[ ] 46번째 손님 (소요시간 : 23분)\n",
      "[O] 47번째 손님 (소요시간 : 14분)\n",
      "[O] 48번째 손님 (소요시간 : 15분)\n",
      "[O] 49번째 손님 (소요시간 : 5분)\n",
      "[ ] 50번째 손님 (소요시간 : 37분)\n",
      "총 탑승 승객 : 16분\n"
     ]
    }
   ],
   "source": [
    "# 50명의 승객과 매칭 기회가 있을 때, 총 탑승 승객 수를 구하는 프로그램을 작성하라\n",
    "# 조건 1 : 승객별 운행 소요 시간은 5분 ~ 50분 사이의 난수로 정해집니다.\n",
    "# 조건 2 :  당신은 소요 시간 5분 ~ 15분 사이의 승객만 매칭해야 합니다.\n",
    "\n",
    "# 출력문 예제\n",
    "# [O] 1번째 손님 (소요시간 : 15분)\n",
    "# [O] 2번째 손님 (소요시간 : 5분)\n",
    "# ....\n",
    "# [ ] 49번째 손님 (소요시간 : 50분)\n",
    "# [ ] 50번째 손님 (소요시간 : 16분)\n",
    "\n",
    "#총 탑승 승객 : 2 분\n",
    "\n",
    "import random as rd\n",
    "\n",
    "client = 0\n",
    "\n",
    "for i in range(1, 51):\n",
    "    randTime = rd.randrange(5,51)\n",
    "    if  5 <= randTime <= 15:\n",
    "        \n",
    "        print(\"[O] {}번째 손님 (소요시간 : {}분)\".format(i, randTime))   \n",
    "        client += 1\n",
    "    else:\n",
    "        \n",
    "        \n",
    "        print(\"[ ] {}번째 손님 (소요시간 : {}분)\".format(i, randTime))\n",
    "print(\"총 탑승 승객 : {}분\".format(client))"
   ]
  },
  {
   "cell_type": "markdown",
   "metadata": {},
   "source": [
    "# 함수"
   ]
  },
  {
   "cell_type": "code",
   "execution_count": null,
   "metadata": {},
   "outputs": [],
   "source": [
    "def open_account():\n",
    "    "
   ]
  }
 ],
 "metadata": {
  "kernelspec": {
   "display_name": "Python 3",
   "language": "python",
   "name": "python3"
  },
  "language_info": {
   "codemirror_mode": {
    "name": "ipython",
    "version": 3
   },
   "file_extension": ".py",
   "mimetype": "text/x-python",
   "name": "python",
   "nbconvert_exporter": "python",
   "pygments_lexer": "ipython3",
   "version": "3.8.5"
  }
 },
 "nbformat": 4,
 "nbformat_minor": 4
}
