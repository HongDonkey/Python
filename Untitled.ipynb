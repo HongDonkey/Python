{
 "cells": [
  {
   "cell_type": "code",
   "execution_count": 85,
   "metadata": {},
   "outputs": [
    {
     "data": {
      "text/plain": [
       "35248.91490376756"
      ]
     },
     "execution_count": 85,
     "metadata": {},
     "output_type": "execute_result"
    }
   ],
   "source": [
    "import pandas as pd\n",
    "\n",
    "customerData = pd.read_csv(\"../dataset/kopo_customerdata.csv\") \n",
    "customerTotalList = customerData[\"TOTAL_AMOUNT\"].tolist()\n",
    "\n",
    "len(customerTotalList) # 리스트의 개수 구하기\n",
    "\n",
    "customerTotalList.sort(reverse = True) # 리스트 내림차순 정렬\n",
    "maxList = max(customerTotalList) # 리스트 최대값 구하기\n",
    "\n",
    "customerTotalList.sort() # 리스트 오름차순 정렬\n",
    "minList = min(customerTotalList) # 리스트 최소값 구하기\n",
    "\n",
    "cntMaxList = customerTotalList.count(maxList) # 최대값 개수 구하기\n",
    "cntMinList = customerTotalList.count(minList) # 최소값 개수 구하기\n",
    "\n",
    "lenList = len(customerTotalList) - cntMaxList - cntMinList # 최대값과 최소값을 제외한 리스트 개수 구하기\n",
    "\n",
    "sumList = sum(customerTotalList) - (maxList * cntMaxList) - (minList * cntMinList) # 리스트의 합 구하기\n",
    "\n",
    "avgList = sumList/lenList # 평균구하기\n",
    "\n",
    "avgList\n",
    "\n",
    "\n"
   ]
  },
  {
   "cell_type": "code",
   "execution_count": null,
   "metadata": {},
   "outputs": [],
   "source": []
  },
  {
   "cell_type": "code",
   "execution_count": null,
   "metadata": {},
   "outputs": [],
   "source": []
  }
 ],
 "metadata": {
  "kernelspec": {
   "display_name": "Python 3",
   "language": "python",
   "name": "python3"
  },
  "language_info": {
   "codemirror_mode": {
    "name": "ipython",
    "version": 3
   },
   "file_extension": ".py",
   "mimetype": "text/x-python",
   "name": "python",
   "nbconvert_exporter": "python",
   "pygments_lexer": "ipython3",
   "version": "3.8.5"
  }
 },
 "nbformat": 4,
 "nbformat_minor": 4
}
