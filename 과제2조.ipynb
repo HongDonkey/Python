{
 "cells": [
  {
   "cell_type": "code",
   "execution_count": 6,
   "metadata": {},
   "outputs": [],
   "source": [
    "def pastWeek2(indexWeek,diffWeek):\n",
    "    from isoweek import Week\n",
    "    #형변환\n",
    "    standardYear = int(str(indexWeek)[:4])\n",
    "    standardWeek = int(str(indexWeek)[4:])       \n",
    "    yearWeek = Week.last_week_of_year(standardYear).week   \n",
    "\n",
    "    # 년도가 바뀌지 않을때\n",
    "    if standardWeek<=yearWeek:\n",
    "        resultWeek = standardWeek - diffWeek\n",
    "        \n",
    "        # minusWeek에서 inputWeek뺀 값을 JudgeWeek변수에 정의\n",
    "        if resultWeek < 0:    #빼야 할 주차에서 기준주차가 0보다 작다면\n",
    "                print(str(standardYear)+str(standardWeek-diffWeek))    #입력한 년주차의 년도와 연산한 주차정보 출력\n",
    "                \n",
    "    # 년도가 바뀔때\n",
    "        ## judgeWeek=0일 때 0주차 값 변환 \n",
    "        elif standardWeek == diffWeek:     #빼고자 하는 주차의 값과 기준 주차의 값이 같을떄 \n",
    "                print(str(standardYear-1)+str(Week.last_week_of_year(standardYear-1).week))             \n",
    "    \n",
    "        elif resultWeek > 0:\n",
    "            for i in range (1, standardYear):\n",
    "             ## 반복한 횟수만큼 기준년도 감소   \n",
    "                calcYear = standardYear - i\n",
    "             ## 감소한 년도의 총 주차 \n",
    "                calcWeek = Week.last_week_of_year(standardYear-i).week\n",
    "             ## 기준주차에서 빼고자하는 주차가 더 크다면\n",
    "                if resultWeek > calcWeek:\n",
    "                     resultWeek = JudgeWeek-calcWeek\n",
    "\n",
    "             ## 기준주차가 더 클때\n",
    "                elif resultWeek < calcWeek: \n",
    "                    print(str(calcYear)+str(calcWeek-resultWeek))\n",
    "                    break;\n",
    "                    \n",
    "              ## 기준주차 - 빼고자할 주차가 같을때\n",
    "                elif resultWeek == calcWeek:\n",
    "                    print(str(standardYear-(i+1))+str(Week.last_week_of_year(standardYear-(i+1)).week))\n",
    "                    break;"
   ]
  },
  {
   "cell_type": "code",
   "execution_count": 7,
   "metadata": {},
   "outputs": [
    {
     "name": "stdout",
     "output_type": "stream",
     "text": [
      "2017-4\n"
     ]
    }
   ],
   "source": [
    "pastWeek2(201701,5)"
   ]
  },
  {
   "cell_type": "code",
   "execution_count": null,
   "metadata": {},
   "outputs": [],
   "source": []
  }
 ],
 "metadata": {
  "kernelspec": {
   "display_name": "Python 3",
   "language": "python",
   "name": "python3"
  },
  "language_info": {
   "codemirror_mode": {
    "name": "ipython",
    "version": 3
   },
   "file_extension": ".py",
   "mimetype": "text/x-python",
   "name": "python",
   "nbconvert_exporter": "python",
   "pygments_lexer": "ipython3",
   "version": "3.8.5"
  }
 },
 "nbformat": 4,
 "nbformat_minor": 4
}
