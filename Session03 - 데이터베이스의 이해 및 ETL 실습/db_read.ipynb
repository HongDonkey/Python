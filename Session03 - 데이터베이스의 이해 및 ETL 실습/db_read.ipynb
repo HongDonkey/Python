{
 "cells": [
  {
   "cell_type": "code",
   "execution_count": 19,
   "metadata": {},
   "outputs": [],
   "source": [
    "import psycopg2\n",
    "import pandas as pd\n",
    "from sqlalchemy import create_engine"
   ]
  },
  {
   "cell_type": "code",
   "execution_count": 20,
   "metadata": {},
   "outputs": [
    {
     "data": {
      "text/plain": [
       "Index(['regionid', 'productgroup', 'product', 'item', 'yearweek', 'year',\n",
       "       'week', 'qty', 'holiday', 'hclus', 'promotion', 'pro_percent'],\n",
       "      dtype='object')"
      ]
     },
     "execution_count": 20,
     "metadata": {},
     "output_type": "execute_result"
    }
   ],
   "source": [
    "indata = pd.read_csv(\"../dataset/kopo_decision_tree_all_new.csv\")\n",
    "indata.shape\n",
    "indata.columns = indata.columns.str.lower()\n",
    "indata.columns"
   ]
  },
  {
   "cell_type": "code",
   "execution_count": 21,
   "metadata": {},
   "outputs": [],
   "source": [
    "targetDbIp = \"127.0.0.1\"\n",
    "targetDbPort = \"5432\"\n",
    "targetDbId = \"postgres\"\n",
    "targetDbPw = \"postgres\"\n",
    "targetDbName = \"postgres\""
   ]
  },
  {
   "cell_type": "code",
   "execution_count": 22,
   "metadata": {},
   "outputs": [],
   "source": [
    "targetDbPrefix = \"postgresql+psycopg2://\""
   ]
  },
  {
   "cell_type": "code",
   "execution_count": 23,
   "metadata": {},
   "outputs": [],
   "source": [
    "targetUrl = \"{0}{1}:{2}@{3}:{4}/{5}\".format(targetDbPrefix,\n",
    "                                            targetDbId,\n",
    "                                            targetDbPw,\n",
    "                                            targetDbIp,\n",
    "                                            targetDbPort,\n",
    "                                            targetDbName)"
   ]
  },
  {
   "cell_type": "code",
   "execution_count": 24,
   "metadata": {},
   "outputs": [],
   "source": [
    "tableName = \"pgout_kopo_hdk\""
   ]
  },
  {
   "cell_type": "code",
   "execution_count": 25,
   "metadata": {},
   "outputs": [],
   "source": [
    "# pip install d6tstack"
   ]
  },
  {
   "cell_type": "code",
   "execution_count": 26,
   "metadata": {},
   "outputs": [],
   "source": [
    "import d6tstack"
   ]
  },
  {
   "cell_type": "code",
   "execution_count": 27,
   "metadata": {},
   "outputs": [],
   "source": [
    "engine = create_engine(targetUrl)"
   ]
  },
  {
   "cell_type": "code",
   "execution_count": 28,
   "metadata": {},
   "outputs": [],
   "source": [
    "indata.to_sql(name=tableName,\n",
    "             con = pg_kopo_engine,\n",
    "             if_exists=\"replace\", index = False)"
   ]
  },
  {
   "cell_type": "code",
   "execution_count": 29,
   "metadata": {},
   "outputs": [
    {
     "data": {
      "text/html": [
       "<div>\n",
       "<style scoped>\n",
       "    .dataframe tbody tr th:only-of-type {\n",
       "        vertical-align: middle;\n",
       "    }\n",
       "\n",
       "    .dataframe tbody tr th {\n",
       "        vertical-align: top;\n",
       "    }\n",
       "\n",
       "    .dataframe thead th {\n",
       "        text-align: right;\n",
       "    }\n",
       "</style>\n",
       "<table border=\"1\" class=\"dataframe\">\n",
       "  <thead>\n",
       "    <tr style=\"text-align: right;\">\n",
       "      <th></th>\n",
       "      <th>regionid</th>\n",
       "      <th>productgroup</th>\n",
       "      <th>product</th>\n",
       "      <th>item</th>\n",
       "      <th>yearweek</th>\n",
       "      <th>year</th>\n",
       "      <th>week</th>\n",
       "      <th>qty</th>\n",
       "      <th>holiday</th>\n",
       "      <th>hclus</th>\n",
       "      <th>promotion</th>\n",
       "      <th>pro_percent</th>\n",
       "    </tr>\n",
       "  </thead>\n",
       "  <tbody>\n",
       "    <tr>\n",
       "      <th>0</th>\n",
       "      <td>A01</td>\n",
       "      <td>PG01</td>\n",
       "      <td>P01</td>\n",
       "      <td>ITEM001</td>\n",
       "      <td>201538</td>\n",
       "      <td>2015</td>\n",
       "      <td>38</td>\n",
       "      <td>1</td>\n",
       "      <td>N</td>\n",
       "      <td>4</td>\n",
       "      <td>N</td>\n",
       "      <td>0.0</td>\n",
       "    </tr>\n",
       "    <tr>\n",
       "      <th>1</th>\n",
       "      <td>A01</td>\n",
       "      <td>PG01</td>\n",
       "      <td>P01</td>\n",
       "      <td>ITEM001</td>\n",
       "      <td>201548</td>\n",
       "      <td>2015</td>\n",
       "      <td>48</td>\n",
       "      <td>1</td>\n",
       "      <td>Y</td>\n",
       "      <td>0</td>\n",
       "      <td>N</td>\n",
       "      <td>0.0</td>\n",
       "    </tr>\n",
       "    <tr>\n",
       "      <th>2</th>\n",
       "      <td>A01</td>\n",
       "      <td>PG01</td>\n",
       "      <td>P01</td>\n",
       "      <td>ITEM001</td>\n",
       "      <td>201549</td>\n",
       "      <td>2015</td>\n",
       "      <td>49</td>\n",
       "      <td>2</td>\n",
       "      <td>Y</td>\n",
       "      <td>0</td>\n",
       "      <td>N</td>\n",
       "      <td>0.0</td>\n",
       "    </tr>\n",
       "    <tr>\n",
       "      <th>3</th>\n",
       "      <td>A01</td>\n",
       "      <td>PG01</td>\n",
       "      <td>P01</td>\n",
       "      <td>ITEM002</td>\n",
       "      <td>201526</td>\n",
       "      <td>2015</td>\n",
       "      <td>26</td>\n",
       "      <td>1</td>\n",
       "      <td>Y</td>\n",
       "      <td>1</td>\n",
       "      <td>N</td>\n",
       "      <td>0.0</td>\n",
       "    </tr>\n",
       "    <tr>\n",
       "      <th>4</th>\n",
       "      <td>A01</td>\n",
       "      <td>PG01</td>\n",
       "      <td>P01</td>\n",
       "      <td>ITEM002</td>\n",
       "      <td>201532</td>\n",
       "      <td>2015</td>\n",
       "      <td>32</td>\n",
       "      <td>1</td>\n",
       "      <td>N</td>\n",
       "      <td>4</td>\n",
       "      <td>N</td>\n",
       "      <td>0.0</td>\n",
       "    </tr>\n",
       "    <tr>\n",
       "      <th>...</th>\n",
       "      <td>...</td>\n",
       "      <td>...</td>\n",
       "      <td>...</td>\n",
       "      <td>...</td>\n",
       "      <td>...</td>\n",
       "      <td>...</td>\n",
       "      <td>...</td>\n",
       "      <td>...</td>\n",
       "      <td>...</td>\n",
       "      <td>...</td>\n",
       "      <td>...</td>\n",
       "      <td>...</td>\n",
       "    </tr>\n",
       "    <tr>\n",
       "      <th>32410</th>\n",
       "      <td>A01</td>\n",
       "      <td>PG05</td>\n",
       "      <td>P16</td>\n",
       "      <td>ITEM491</td>\n",
       "      <td>201503</td>\n",
       "      <td>2015</td>\n",
       "      <td>3</td>\n",
       "      <td>1</td>\n",
       "      <td>N</td>\n",
       "      <td>4</td>\n",
       "      <td>N</td>\n",
       "      <td>0.0</td>\n",
       "    </tr>\n",
       "    <tr>\n",
       "      <th>32411</th>\n",
       "      <td>A01</td>\n",
       "      <td>PG05</td>\n",
       "      <td>P16</td>\n",
       "      <td>ITEM491</td>\n",
       "      <td>201504</td>\n",
       "      <td>2015</td>\n",
       "      <td>4</td>\n",
       "      <td>1</td>\n",
       "      <td>Y</td>\n",
       "      <td>2</td>\n",
       "      <td>N</td>\n",
       "      <td>0.0</td>\n",
       "    </tr>\n",
       "    <tr>\n",
       "      <th>32412</th>\n",
       "      <td>A01</td>\n",
       "      <td>PG05</td>\n",
       "      <td>P16</td>\n",
       "      <td>ITEM491</td>\n",
       "      <td>201505</td>\n",
       "      <td>2015</td>\n",
       "      <td>5</td>\n",
       "      <td>2</td>\n",
       "      <td>N</td>\n",
       "      <td>4</td>\n",
       "      <td>N</td>\n",
       "      <td>0.0</td>\n",
       "    </tr>\n",
       "    <tr>\n",
       "      <th>32413</th>\n",
       "      <td>A01</td>\n",
       "      <td>PG05</td>\n",
       "      <td>P16</td>\n",
       "      <td>ITEM491</td>\n",
       "      <td>201506</td>\n",
       "      <td>2015</td>\n",
       "      <td>6</td>\n",
       "      <td>1</td>\n",
       "      <td>N</td>\n",
       "      <td>4</td>\n",
       "      <td>N</td>\n",
       "      <td>0.0</td>\n",
       "    </tr>\n",
       "    <tr>\n",
       "      <th>32414</th>\n",
       "      <td>A01</td>\n",
       "      <td>PG05</td>\n",
       "      <td>P16</td>\n",
       "      <td>ITEM491</td>\n",
       "      <td>201508</td>\n",
       "      <td>2015</td>\n",
       "      <td>8</td>\n",
       "      <td>1</td>\n",
       "      <td>Y</td>\n",
       "      <td>1</td>\n",
       "      <td>N</td>\n",
       "      <td>0.0</td>\n",
       "    </tr>\n",
       "  </tbody>\n",
       "</table>\n",
       "<p>32415 rows × 12 columns</p>\n",
       "</div>"
      ],
      "text/plain": [
       "      regionid productgroup product     item  yearweek  year  week  qty holiday  hclus promotion  pro_percent\n",
       "0          A01         PG01     P01  ITEM001    201538  2015    38    1       N      4         N          0.0\n",
       "1          A01         PG01     P01  ITEM001    201548  2015    48    1       Y      0         N          0.0\n",
       "2          A01         PG01     P01  ITEM001    201549  2015    49    2       Y      0         N          0.0\n",
       "3          A01         PG01     P01  ITEM002    201526  2015    26    1       Y      1         N          0.0\n",
       "4          A01         PG01     P01  ITEM002    201532  2015    32    1       N      4         N          0.0\n",
       "...        ...          ...     ...      ...       ...   ...   ...  ...     ...    ...       ...          ...\n",
       "32410      A01         PG05     P16  ITEM491    201503  2015     3    1       N      4         N          0.0\n",
       "32411      A01         PG05     P16  ITEM491    201504  2015     4    1       Y      2         N          0.0\n",
       "32412      A01         PG05     P16  ITEM491    201505  2015     5    2       N      4         N          0.0\n",
       "32413      A01         PG05     P16  ITEM491    201506  2015     6    1       N      4         N          0.0\n",
       "32414      A01         PG05     P16  ITEM491    201508  2015     8    1       Y      1         N          0.0\n",
       "\n",
       "[32415 rows x 12 columns]"
      ]
     },
     "execution_count": 29,
     "metadata": {},
     "output_type": "execute_result"
    }
   ],
   "source": [
    "callDB=pd.read_sql(sql = \"select * from pgout_kopo_hdk \", con = pg_kopo_engine)\n",
    "callDB"
   ]
  },
  {
   "cell_type": "code",
   "execution_count": 30,
   "metadata": {},
   "outputs": [
    {
     "name": "stdout",
     "output_type": "stream",
     "text": [
      "pgout_kopo_hdk unload 성공!\n"
     ]
    }
   ],
   "source": [
    "tableName = \"pgout_kopo_hdk\"\n",
    "try: \n",
    "        indata.to_sql(name=tableName,con = pg_kopo_engine, if_exists=\"replace\",index =False)\n",
    "        print(\"{} unload 성공!\".format(tableName))\n",
    "except Expection as e:\n",
    "        print(e)"
   ]
  },
  {
   "cell_type": "code",
   "execution_count": 33,
   "metadata": {},
   "outputs": [],
   "source": [
    "selloutData = pd.read_sql_query(\"select * from sfsaf\", engine)"
   ]
  },
  {
   "cell_type": "code",
   "execution_count": 34,
   "metadata": {},
   "outputs": [
    {
     "data": {
      "text/html": [
       "<div>\n",
       "<style scoped>\n",
       "    .dataframe tbody tr th:only-of-type {\n",
       "        vertical-align: middle;\n",
       "    }\n",
       "\n",
       "    .dataframe tbody tr th {\n",
       "        vertical-align: top;\n",
       "    }\n",
       "\n",
       "    .dataframe thead th {\n",
       "        text-align: right;\n",
       "    }\n",
       "</style>\n",
       "<table border=\"1\" class=\"dataframe\">\n",
       "  <thead>\n",
       "    <tr style=\"text-align: right;\">\n",
       "      <th></th>\n",
       "      <th>regionid</th>\n",
       "      <th>productgroup</th>\n",
       "      <th>yearweek</th>\n",
       "      <th>volume</th>\n",
       "    </tr>\n",
       "  </thead>\n",
       "  <tbody>\n",
       "    <tr>\n",
       "      <th>0</th>\n",
       "      <td>A01</td>\n",
       "      <td>ST0001</td>\n",
       "      <td>201415</td>\n",
       "      <td>810144</td>\n",
       "    </tr>\n",
       "    <tr>\n",
       "      <th>1</th>\n",
       "      <td>A01</td>\n",
       "      <td>ST0002</td>\n",
       "      <td>201415</td>\n",
       "      <td>128999</td>\n",
       "    </tr>\n",
       "    <tr>\n",
       "      <th>2</th>\n",
       "      <td>A01</td>\n",
       "      <td>ST0001</td>\n",
       "      <td>201418</td>\n",
       "      <td>671464</td>\n",
       "    </tr>\n",
       "    <tr>\n",
       "      <th>3</th>\n",
       "      <td>A01</td>\n",
       "      <td>ST0002</td>\n",
       "      <td>201418</td>\n",
       "      <td>134467</td>\n",
       "    </tr>\n",
       "    <tr>\n",
       "      <th>4</th>\n",
       "      <td>A01</td>\n",
       "      <td>ST0001</td>\n",
       "      <td>201413</td>\n",
       "      <td>470040</td>\n",
       "    </tr>\n",
       "  </tbody>\n",
       "</table>\n",
       "</div>"
      ],
      "text/plain": [
       "  regionid productgroup  yearweek  volume\n",
       "0      A01       ST0001    201415  810144\n",
       "1      A01       ST0002    201415  128999\n",
       "2      A01       ST0001    201418  671464\n",
       "3      A01       ST0002    201418  134467\n",
       "4      A01       ST0001    201413  470040"
      ]
     },
     "execution_count": 34,
     "metadata": {},
     "output_type": "execute_result"
    }
   ],
   "source": [
    "selloutData.head()"
   ]
  },
  {
   "cell_type": "code",
   "execution_count": 35,
   "metadata": {},
   "outputs": [],
   "source": [
    "selloutData.columns = [\"regionid\",\"pg\",\"yearweek\",\"volume\"]"
   ]
  },
  {
   "cell_type": "code",
   "execution_count": 38,
   "metadata": {},
   "outputs": [
    {
     "data": {
      "text/plain": [
       "True"
      ]
     },
     "execution_count": 38,
     "metadata": {},
     "output_type": "execute_result"
    }
   ],
   "source": [
    "resultname = \"pgresult\"\n",
    "d6tstack.utils.pd_to_psql(df = selloutData, uri=targetUrl, table_name=resultname,if_exists=\"replace\")"
   ]
  },
  {
   "cell_type": "code",
   "execution_count": null,
   "metadata": {},
   "outputs": [],
   "source": []
  }
 ],
 "metadata": {
  "kernelspec": {
   "display_name": "Python 3",
   "language": "python",
   "name": "python3"
  },
  "language_info": {
   "codemirror_mode": {
    "name": "ipython",
    "version": 3
   },
   "file_extension": ".py",
   "mimetype": "text/x-python",
   "name": "python",
   "nbconvert_exporter": "python",
   "pygments_lexer": "ipython3",
   "version": "3.8.5"
  }
 },
 "nbformat": 4,
 "nbformat_minor": 4
}
