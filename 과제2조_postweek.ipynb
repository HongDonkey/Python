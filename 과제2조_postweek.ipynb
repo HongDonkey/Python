{
 "cells": [
  {
   "cell_type": "code",
   "execution_count": 73,
   "metadata": {},
   "outputs": [
    {
     "data": {
      "text/plain": [
       "'201613'"
      ]
     },
     "execution_count": 73,
     "metadata": {},
     "output_type": "execute_result"
    }
   ],
   "source": [
    "def postWeek(inputYearWeek,plusWeek):\n",
    "    from isoweek import Week\n",
    "\n",
    "    inputYear = int(str(inputYearWeek)[:4])\n",
    "    inputWeek = int(str(inputYearWeek)[4:])\n",
    "    yearWeek = Week.last_week_of_year(inputYear).week\n",
    "    \n",
    "    JudgeWeek = inputWeek + plusWeek  \n",
    "    \n",
    "    if JudgeWeek <= yearWeek:   \n",
    "        resultYear = str(inputYear)\n",
    "        resultWeek = str(JudgeWeek)        \n",
    "        \n",
    "    elif JudgeWeek > yearWeek:   \n",
    "        for i in range (1, inputYear):\n",
    "            calcYear = inputYear + i\n",
    "            calcWeek = Week.last_week_of_year(calcYear).week\n",
    "\n",
    "            if JudgeWeek > calcWeek:\n",
    "                JudgeWeek = JudgeWeek - calcWeek\n",
    "                resultYear = str(calcYear)\n",
    "                resultWeek = str(JudgeWeek)\n",
    "                \n",
    "    if JudgeWeek < 10:\n",
    "        resultWeek = \"0\" + resultWeek\n",
    "        \n",
    "    answer = resultYear + resultWeek\n",
    "    return answer \n",
    "\n",
    "postWeek(201601,12)"
   ]
  },
  {
   "cell_type": "code",
   "execution_count": null,
   "metadata": {},
   "outputs": [],
   "source": []
  },
  {
   "cell_type": "code",
   "execution_count": null,
   "metadata": {},
   "outputs": [],
   "source": []
  },
  {
   "cell_type": "code",
   "execution_count": null,
   "metadata": {},
   "outputs": [],
   "source": []
  },
  {
   "cell_type": "code",
   "execution_count": null,
   "metadata": {},
   "outputs": [],
   "source": []
  },
  {
   "cell_type": "code",
   "execution_count": null,
   "metadata": {},
   "outputs": [],
   "source": []
  },
  {
   "cell_type": "code",
   "execution_count": null,
   "metadata": {},
   "outputs": [],
   "source": []
  }
 ],
 "metadata": {
  "kernelspec": {
   "display_name": "Python 3",
   "language": "python",
   "name": "python3"
  },
  "language_info": {
   "codemirror_mode": {
    "name": "ipython",
    "version": 3
   },
   "file_extension": ".py",
   "mimetype": "text/x-python",
   "name": "python",
   "nbconvert_exporter": "python",
   "pygments_lexer": "ipython3",
   "version": "3.8.3"
  }
 },
 "nbformat": 4,
 "nbformat_minor": 4
}
