{
 "cells": [
  {
   "cell_type": "code",
   "execution_count": 2,
   "metadata": {},
   "outputs": [],
   "source": [
    "a=3"
   ]
  },
  {
   "cell_type": "code",
   "execution_count": 3,
   "metadata": {},
   "outputs": [
    {
     "data": {
      "text/plain": [
       "int"
      ]
     },
     "execution_count": 3,
     "metadata": {},
     "output_type": "execute_result"
    }
   ],
   "source": [
    "type(a)"
   ]
  },
  {
   "cell_type": "code",
   "execution_count": 2,
   "metadata": {},
   "outputs": [],
   "source": [
    "# 현재 시간과 분을 입력값으로 받아서 두개의 값을 더하는 연산을 수행하세요"
   ]
  },
  {
   "cell_type": "code",
   "execution_count": 3,
   "metadata": {},
   "outputs": [
    {
     "data": {
      "text/plain": [
       "58"
      ]
     },
     "execution_count": 3,
     "metadata": {},
     "output_type": "execute_result"
    }
   ],
   "source": [
    "now_hour = 17\n",
    "now_minutes = 41\n",
    "\n",
    "now = now_hour+now_minutes\n",
    "\n",
    "now"
   ]
  },
  {
   "cell_type": "code",
   "execution_count": 4,
   "metadata": {},
   "outputs": [],
   "source": [
    "import datetime as dt"
   ]
  },
  {
   "cell_type": "code",
   "execution_count": 6,
   "metadata": {},
   "outputs": [
    {
     "data": {
      "text/plain": [
       "datetime.datetime(2021, 3, 15, 14, 36, 0, 364844)"
      ]
     },
     "execution_count": 6,
     "metadata": {},
     "output_type": "execute_result"
    }
   ],
   "source": [
    "dt.datetime.now()"
   ]
  },
  {
   "cell_type": "code",
   "execution_count": 12,
   "metadata": {},
   "outputs": [],
   "source": [
    "# pypi.org - 파이썬 패키지 "
   ]
  },
  {
   "cell_type": "code",
   "execution_count": 13,
   "metadata": {},
   "outputs": [],
   "source": [
    "currentDate=dt.datetime.now()"
   ]
  },
  {
   "cell_type": "code",
   "execution_count": 21,
   "metadata": {},
   "outputs": [
    {
     "data": {
      "text/plain": [
       "14"
      ]
     },
     "execution_count": 21,
     "metadata": {},
     "output_type": "execute_result"
    }
   ],
   "source": [
    "currentDate.hour\n"
   ]
  },
  {
   "cell_type": "code",
   "execution_count": 23,
   "metadata": {},
   "outputs": [],
   "source": [
    "currentHour = currentDate.hour"
   ]
  },
  {
   "cell_type": "code",
   "execution_count": 24,
   "metadata": {},
   "outputs": [
    {
     "data": {
      "text/plain": [
       "42"
      ]
     },
     "execution_count": 24,
     "metadata": {},
     "output_type": "execute_result"
    }
   ],
   "source": [
    "currentDate.minute"
   ]
  },
  {
   "cell_type": "code",
   "execution_count": 25,
   "metadata": {},
   "outputs": [],
   "source": [
    "currentMinute = currentDate.minute"
   ]
  },
  {
   "cell_type": "code",
   "execution_count": 26,
   "metadata": {},
   "outputs": [],
   "source": [
    "sumCurrentTime=currentHour + currentMinute"
   ]
  },
  {
   "cell_type": "code",
   "execution_count": 27,
   "metadata": {},
   "outputs": [
    {
     "data": {
      "text/plain": [
       "56"
      ]
     },
     "execution_count": 27,
     "metadata": {},
     "output_type": "execute_result"
    }
   ],
   "source": [
    "sumCurrentTime"
   ]
  },
  {
   "cell_type": "markdown",
   "metadata": {},
   "source": [
    "문자"
   ]
  },
  {
   "cell_type": "code",
   "execution_count": 28,
   "metadata": {},
   "outputs": [
    {
     "data": {
      "text/plain": [
       "\"smart 'fintech' lecture\""
      ]
     },
     "execution_count": 28,
     "metadata": {},
     "output_type": "execute_result"
    }
   ],
   "source": [
    "firstLetter = \"smart 'fintech' lecture\"\n",
    "firstLetter"
   ]
  },
  {
   "cell_type": "code",
   "execution_count": 34,
   "metadata": {},
   "outputs": [],
   "source": [
    "inputVal1 = 1\n",
    "inputVal2 = \"1\""
   ]
  },
  {
   "cell_type": "code",
   "execution_count": 35,
   "metadata": {},
   "outputs": [],
   "source": [
    "commnetMulti = 20\n",
    "startFlag = \"START\"\n",
    "endFlag = \"END\""
   ]
  },
  {
   "cell_type": "code",
   "execution_count": 61,
   "metadata": {},
   "outputs": [],
   "source": [
    "# 연, 주차 정보 길이 설정\n",
    "\n",
    "YEARLEN = 4\n",
    "WEEKLEN = 2\n",
    "\n",
    "# 입력 데이터\n",
    "\n",
    "inValue = \"202103\""
   ]
  },
  {
   "cell_type": "code",
   "execution_count": 63,
   "metadata": {},
   "outputs": [
    {
     "data": {
      "text/plain": [
       "'2021'"
      ]
     },
     "execution_count": 63,
     "metadata": {},
     "output_type": "execute_result"
    }
   ],
   "source": [
    "yearInfo = inValue[:YEARLEN]\n",
    "yearInfo"
   ]
  },
  {
   "cell_type": "code",
   "execution_count": 64,
   "metadata": {},
   "outputs": [
    {
     "data": {
      "text/plain": [
       "'03'"
      ]
     },
     "execution_count": 64,
     "metadata": {},
     "output_type": "execute_result"
    }
   ],
   "source": [
    "weekInfo = inValue[YEARLEN:]\n",
    "weekInfo"
   ]
  },
  {
   "cell_type": "code",
   "execution_count": 66,
   "metadata": {},
   "outputs": [
    {
     "data": {
      "text/plain": [
       "4"
      ]
     },
     "execution_count": 66,
     "metadata": {},
     "output_type": "execute_result"
    }
   ],
   "source": [
    "yearWeek = \"2017W28\"\n",
    "delimeter=yearWeek.index(\"W\")\n",
    "delimeter"
   ]
  },
  {
   "cell_type": "code",
   "execution_count": 72,
   "metadata": {},
   "outputs": [
    {
     "name": "stdout",
     "output_type": "stream",
     "text": [
      "LED_TV\n",
      "led_tv\n"
     ]
    }
   ],
   "source": [
    "letters = \"led_TV\"\n",
    "upperLetters = letters.upper()\n",
    "lowerLetters = letters.lower()\n",
    "print(upperLetters)\n",
    "print(lowerLetters)"
   ]
  },
  {
   "cell_type": "code",
   "execution_count": 73,
   "metadata": {},
   "outputs": [
    {
     "data": {
      "text/plain": [
       "['led', 'TV']"
      ]
     },
     "execution_count": 73,
     "metadata": {},
     "output_type": "execute_result"
    }
   ],
   "source": [
    "letterSplit = letters.split(\"_\")\n",
    "letterSplit"
   ]
  },
  {
   "cell_type": "code",
   "execution_count": 76,
   "metadata": {},
   "outputs": [
    {
     "data": {
      "text/plain": [
       "int"
      ]
     },
     "execution_count": 76,
     "metadata": {},
     "output_type": "execute_result"
    }
   ],
   "source": [
    "strValue = \"1234\"\n",
    "intValue = int(strValue)\n",
    "type(intValue)"
   ]
  },
  {
   "cell_type": "code",
   "execution_count": 83,
   "metadata": {},
   "outputs": [
    {
     "data": {
      "text/plain": [
       "float"
      ]
     },
     "execution_count": 83,
     "metadata": {},
     "output_type": "execute_result"
    }
   ],
   "source": [
    "strValue = int(1234)\n",
    "floatValue = float(strValue)\n",
    "type(floatValue)"
   ]
  },
  {
   "cell_type": "code",
   "execution_count": null,
   "metadata": {},
   "outputs": [],
   "source": [
    "strValue = \"SEC 20180212 250\""
   ]
  },
  {
   "cell_type": "code",
   "execution_count": 163,
   "metadata": {},
   "outputs": [
    {
     "data": {
      "text/plain": [
       "3"
      ]
     },
     "execution_count": 163,
     "metadata": {},
     "output_type": "execute_result"
    }
   ],
   "source": [
    "strValue.index(\" \")"
   ]
  },
  {
   "cell_type": "code",
   "execution_count": 123,
   "metadata": {},
   "outputs": [
    {
     "name": "stdout",
     "output_type": "stream",
     "text": [
      "['SEC', '20180212', '250']\n",
      "SEC\n",
      "20180212\n",
      "250\n"
     ]
    }
   ],
   "source": [
    "# “SEC 20180212 250”  문자열 생성 후 stock_name, date, value로 각각 의미하는 문자열을 생성하세요\n",
    "\n",
    "\n",
    "strValue = \"SEC 20180212 250\" # 문자열 값을 줌\n",
    "splitter = \" \" # 문자열을 나누는 기준을 공백으로 설정\n",
    "strValue.split(splitter) # 설정한 기준으로 문자열을 분리 \n",
    "print(strValueSplit) # 분리된 문자열을 출력\n",
    "\n",
    "stock_name = str(strValueSplit[0]) # 분리된 문자열의 첫번째 값을 변수에 담음\n",
    "print(stock_name) # 분리된 문자열의 첫번째 값을 출력\n",
    "\n",
    "date = str(strValueSplit[1]) # 분리된 문자열의 두번째 값을 변수에 담음\n",
    "print(date) # 분리된 문자열의 두번째 값을 출력\n",
    "\n",
    "value = str(strValueSplit[2]) # 분리된 문자열의 세번째 값을 변수에 담음\n",
    "print(value) # 분리된 문자열의 세번째 값을 출력"
   ]
  },
  {
   "cell_type": "code",
   "execution_count": 124,
   "metadata": {},
   "outputs": [
    {
     "name": "stdout",
     "output_type": "stream",
     "text": [
      "['Sec', '2018W28', '250']\n",
      "SEC\n",
      "2018 28\n",
      "250\n"
     ]
    }
   ],
   "source": [
    "# “Sec 2018W28 250”  문자열 생성 후 stock_name, date, value로 각각 의미하는\n",
    "# 문자열을 생성하세요 (단 모두 대문자여야 하며, ‘W’를 삭제해야함)\n",
    "# 예) targetValue = \"Sec 2018W28 250\"\n",
    "# stock_name = ? \n",
    "# date =  ?\n",
    "# value =  ?\n",
    "\n",
    "targetValue = \"Sec 2018W28 250\" # 문자열 값을 줌\n",
    "splitter = \" \" # 문자열을 나누는 기준을 공백으로 설정\n",
    "targetValueSplit = targetValue.split(splitter) # 설정한 기준으로 문자열을 분리 \n",
    "print(targetValueSplit) # 분리된 문자열을 출력\n",
    "\n",
    "stock_name = str(targetValueSplit[0].upper()) # 분리된 문자열의 첫번째 값을 변수에 담고 대문자로 변경\n",
    "print(stock_name) # 분리된 문자열의 첫번째 값을 출력\n",
    "\n",
    "strDate = targetValueSplit[1] # 분리된 문자열의 두번째 값을 변수에 담음\n",
    "repDate = strDate.replace(\"W\",\" \") # \"W\"를 공백으로 치환\n",
    "date = str(repDate) # 치환한 데이터를 변수값에 담음\n",
    "print(date) # 분리된 문자열의 두번째 값을 출력\n",
    "\n",
    "value = str(targetValueSplit[2]) # 분리된 문자열의 세번째 값을 변수에 담음\n",
    "print(value) # 분리된 문자열의 세번째 값을 출력"
   ]
  },
  {
   "cell_type": "markdown",
   "metadata": {},
   "source": [
    "리스트"
   ]
  },
  {
   "cell_type": "code",
   "execution_count": 130,
   "metadata": {},
   "outputs": [],
   "source": [
    "emptyList = []"
   ]
  },
  {
   "cell_type": "code",
   "execution_count": 131,
   "metadata": {},
   "outputs": [
    {
     "data": {
      "text/plain": [
       "list"
      ]
     },
     "execution_count": 131,
     "metadata": {},
     "output_type": "execute_result"
    }
   ],
   "source": [
    "type(empty)"
   ]
  },
  {
   "cell_type": "code",
   "execution_count": 132,
   "metadata": {},
   "outputs": [],
   "source": [
    "priceList = [100, 150, 300, 1000]"
   ]
  },
  {
   "cell_type": "code",
   "execution_count": 150,
   "metadata": {},
   "outputs": [
    {
     "data": {
      "text/plain": [
       "387.5"
      ]
     },
     "execution_count": 150,
     "metadata": {},
     "output_type": "execute_result"
    }
   ],
   "source": [
    "max(priceList)\n",
    "min(priceList)\n",
    "sum(priceList)\n",
    "len(priceList)\n",
    "priceListAvg = sum(priceList) / len(priceList)\n",
    "priceListAvg"
   ]
  },
  {
   "cell_type": "code",
   "execution_count": 159,
   "metadata": {},
   "outputs": [],
   "source": [
    "stockList = [[\"sec\",\"201801\", 100],\n",
    "            [\"posco\",\"201801\",200]]"
   ]
  },
  {
   "cell_type": "code",
   "execution_count": 141,
   "metadata": {},
   "outputs": [
    {
     "data": {
      "text/plain": [
       "['sec', '201801', 100]"
      ]
     },
     "execution_count": 141,
     "metadata": {},
     "output_type": "execute_result"
    }
   ],
   "source": [
    "stockList[0]"
   ]
  },
  {
   "cell_type": "code",
   "execution_count": 151,
   "metadata": {},
   "outputs": [
    {
     "name": "stdout",
     "output_type": "stream",
     "text": [
      "[['sec', '201801', 100], 180]\n"
     ]
    }
   ],
   "source": [
    "stockList[1]=180\n",
    "print(stockList)"
   ]
  },
  {
   "cell_type": "code",
   "execution_count": 152,
   "metadata": {},
   "outputs": [],
   "source": [
    "initList = [100,200,300,400, 100,100]"
   ]
  },
  {
   "cell_type": "code",
   "execution_count": 153,
   "metadata": {},
   "outputs": [
    {
     "data": {
      "text/plain": [
       "100"
      ]
     },
     "execution_count": 153,
     "metadata": {},
     "output_type": "execute_result"
    }
   ],
   "source": [
    "# 인덱스 활용\n",
    "initList[0]"
   ]
  },
  {
   "cell_type": "code",
   "execution_count": 155,
   "metadata": {},
   "outputs": [
    {
     "name": "stdout",
     "output_type": "stream",
     "text": [
      "1000\n",
      "400\n",
      "100\n",
      "4\n"
     ]
    }
   ],
   "source": [
    "print(sum(initList))\n",
    "print(max(initList))\n",
    "print(min(initList))\n",
    "print(len(initList))"
   ]
  },
  {
   "cell_type": "code",
   "execution_count": 158,
   "metadata": {},
   "outputs": [
    {
     "data": {
      "text/plain": [
       "2"
      ]
     },
     "execution_count": 158,
     "metadata": {},
     "output_type": "execute_result"
    }
   ],
   "source": [
    "initList.index(300)"
   ]
  },
  {
   "cell_type": "code",
   "execution_count": 164,
   "metadata": {},
   "outputs": [],
   "source": [
    "# [120,150,300,500,1000,100,2000] \n",
    "# 값에서 최소 최대 값을 뺀 평균을\n",
    "# average 이름의 변수에 담으세요\n"
   ]
  },
  {
   "cell_type": "code",
   "execution_count": 170,
   "metadata": {},
   "outputs": [
    {
     "name": "stdout",
     "output_type": "stream",
     "text": [
      "[120, 150, 300, 500, 1000]\n"
     ]
    },
    {
     "data": {
      "text/plain": [
       "414.0"
      ]
     },
     "execution_count": 170,
     "metadata": {},
     "output_type": "execute_result"
    }
   ],
   "source": [
    "numList = [120,150,300,500,1000,100,2000] # 리스트의 값 할당\n",
    "maxValue= numList.remove(max(numList)) # 최대값 삭제\n",
    "minValue= numList.remove(min(numList)) # 최소값 삭제\n",
    "print(numList) # 중간결과 확인\n",
    "\n",
    "average = sum(numList) / len(numList) # average 변수에 평균 값 담기\n",
    "print(average) # 최종결과 출력"
   ]
  },
  {
   "cell_type": "code",
   "execution_count": 5,
   "metadata": {},
   "outputs": [
    {
     "data": {
      "text/plain": [
       "'2017'"
      ]
     },
     "execution_count": 5,
     "metadata": {},
     "output_type": "execute_result"
    }
   ],
   "source": [
    "yearWeekValue = \"2017w42\"\n",
    "yearWeekValue.split(\"w\")[0]\n"
   ]
  },
  {
   "cell_type": "code",
   "execution_count": 11,
   "metadata": {},
   "outputs": [
    {
     "name": "stdout",
     "output_type": "stream",
     "text": [
      "None\n"
     ]
    }
   ],
   "source": [
    "initList = [100,200,300,400,100,100]\n",
    "lostList = initList.remove(100)\n",
    "print(lostList)"
   ]
  },
  {
   "cell_type": "code",
   "execution_count": null,
   "metadata": {},
   "outputs": [],
   "source": []
  }
 ],
 "metadata": {
  "kernelspec": {
   "display_name": "Python 3",
   "language": "python",
   "name": "python3"
  },
  "language_info": {
   "codemirror_mode": {
    "name": "ipython",
    "version": 3
   },
   "file_extension": ".py",
   "mimetype": "text/x-python",
   "name": "python",
   "nbconvert_exporter": "python",
   "pygments_lexer": "ipython3",
   "version": "3.8.5"
  }
 },
 "nbformat": 4,
 "nbformat_minor": 4
}
