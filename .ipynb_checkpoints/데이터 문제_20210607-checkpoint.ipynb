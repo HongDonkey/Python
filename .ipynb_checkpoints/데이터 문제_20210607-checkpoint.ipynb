{
 "cells": [
  {
   "cell_type": "markdown",
   "metadata": {},
   "source": [
    "# 두개의 테이블에서 “부대상납세자통합코드” 같은 경우에만 메인테이블의 “부대상납세자통합코드”를 \n",
    "# 주납세자 통합코드로 변경한 컬럼을 생성한다\n",
    "# (새로 생성한 컬럼명: new_sutatin \n",
    "# 메인테이블: joindata1\n",
    "# 참조테이블: joindata2"
   ]
  },
  {
   "cell_type": "code",
   "execution_count": 20,
   "metadata": {},
   "outputs": [
    {
     "data": {
      "text/html": [
       "<div>\n",
       "<style scoped>\n",
       "    .dataframe tbody tr th:only-of-type {\n",
       "        vertical-align: middle;\n",
       "    }\n",
       "\n",
       "    .dataframe tbody tr th {\n",
       "        vertical-align: top;\n",
       "    }\n",
       "\n",
       "    .dataframe thead th {\n",
       "        text-align: right;\n",
       "    }\n",
       "</style>\n",
       "<table border=\"1\" class=\"dataframe\">\n",
       "  <thead>\n",
       "    <tr style=\"text-align: right;\">\n",
       "      <th></th>\n",
       "      <th>mata_tin_x</th>\n",
       "      <th>mata_txpr_sex_cd</th>\n",
       "      <th>mate_mdf_yn</th>\n",
       "      <th>mate_srcs_cntn_x</th>\n",
       "      <th>mem_rit_cd</th>\n",
       "      <th>rit_end_dt_x</th>\n",
       "      <th>rit_strt_dt_x</th>\n",
       "      <th>suta_tin</th>\n",
       "      <th>suta_txpr_sex_cd</th>\n",
       "      <th>mata_tin_y</th>\n",
       "      <th>mate_srcs_cntn_y</th>\n",
       "      <th>rit_end_dt_y</th>\n",
       "      <th>rit_strt_dt_y</th>\n",
       "      <th>txpr_rlt_cd</th>\n",
       "      <th>new_sutatin</th>\n",
       "    </tr>\n",
       "  </thead>\n",
       "  <tbody>\n",
       "    <tr>\n",
       "      <th>0</th>\n",
       "      <td>153601000000</td>\n",
       "      <td>3</td>\n",
       "      <td>Y</td>\n",
       "      <td>대법원가족관계</td>\n",
       "      <td>2</td>\n",
       "      <td>99991231</td>\n",
       "      <td>20190107</td>\n",
       "      <td>153403000000</td>\n",
       "      <td>2</td>\n",
       "      <td>153101000000</td>\n",
       "      <td>납세자관계</td>\n",
       "      <td>99991231</td>\n",
       "      <td>10101</td>\n",
       "      <td>22</td>\n",
       "      <td>153601000000</td>\n",
       "    </tr>\n",
       "    <tr>\n",
       "      <th>1</th>\n",
       "      <td>153601000000</td>\n",
       "      <td>3</td>\n",
       "      <td>Y</td>\n",
       "      <td>대법원가족관계</td>\n",
       "      <td>2</td>\n",
       "      <td>99991231</td>\n",
       "      <td>20190107</td>\n",
       "      <td>153403000000</td>\n",
       "      <td>2</td>\n",
       "      <td>153101000000</td>\n",
       "      <td>납세자관계</td>\n",
       "      <td>99991231</td>\n",
       "      <td>10101</td>\n",
       "      <td>32</td>\n",
       "      <td>154102000000</td>\n",
       "    </tr>\n",
       "  </tbody>\n",
       "</table>\n",
       "</div>"
      ],
      "text/plain": [
       "     mata_tin_x  mata_txpr_sex_cd mate_mdf_yn mate_srcs_cntn_x  mem_rit_cd  \\\n",
       "0  153601000000                 3           Y          대법원가족관계           2   \n",
       "1  153601000000                 3           Y          대법원가족관계           2   \n",
       "\n",
       "   rit_end_dt_x  rit_strt_dt_x      suta_tin  suta_txpr_sex_cd    mata_tin_y  \\\n",
       "0      99991231       20190107  153403000000                 2  153101000000   \n",
       "1      99991231       20190107  153403000000                 2  153101000000   \n",
       "\n",
       "  mate_srcs_cntn_y  rit_end_dt_y  rit_strt_dt_y  txpr_rlt_cd   new_sutatin  \n",
       "0            납세자관계      99991231          10101           22  153601000000  \n",
       "1            납세자관계      99991231          10101           32  154102000000  "
      ]
     },
     "execution_count": 20,
     "metadata": {},
     "output_type": "execute_result"
    }
   ],
   "source": [
    "import pandas as pd\n",
    "import numpy as np\n",
    "\n",
    "#join1 파일 불러오기\n",
    "join1 = pd.read_csv(\"210607/joindata1.csv\", encoding=\"utf8\")\n",
    "join1\n",
    "\n",
    "#join2 파일 불러오기\n",
    "join2 = pd.read_csv(\"210607/joindata2.csv\", encoding=\"ms949\")\n",
    "join2\n",
    "\n",
    "#suta_tin의 값이 같은 행만 조회되게끔 조인\n",
    "join=pd.merge(left = join1, right = join2, on = 'suta_tin', how='inner')\n",
    "\n",
    "#new_sutatin을 새로 만들어 mata_tin의 값을 넣어줌\n",
    "join[\"new_sutatin\"] = join1.mata_tin\n",
    "\n",
    "join"
   ]
  },
  {
   "cell_type": "code",
   "execution_count": null,
   "metadata": {},
   "outputs": [],
   "source": []
  }
 ],
 "metadata": {
  "kernelspec": {
   "display_name": "Python 3",
   "language": "python",
   "name": "python3"
  },
  "language_info": {
   "codemirror_mode": {
    "name": "ipython",
    "version": 3
   },
   "file_extension": ".py",
   "mimetype": "text/x-python",
   "name": "python",
   "nbconvert_exporter": "python",
   "pygments_lexer": "ipython3",
   "version": "3.8.5"
  }
 },
 "nbformat": 4,
 "nbformat_minor": 4
}
